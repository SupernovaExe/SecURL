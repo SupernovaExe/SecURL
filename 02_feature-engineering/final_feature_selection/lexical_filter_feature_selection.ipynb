{
 "cells": [
  {
   "cell_type": "markdown",
   "metadata": {},
   "source": [
    "# Lexical Filter-based Feature Selection"
   ]
  },
  {
   "cell_type": "code",
   "execution_count": 1,
   "metadata": {},
   "outputs": [],
   "source": [
    "import pandas as pd\n",
    "from mlxtend.feature_selection import SequentialFeatureSelector\n",
    "from sklearn.model_selection import train_test_split\n",
    "from sklearn.ensemble import RandomForestClassifier\n",
    "from xgboost import XGBClassifier\n",
    "import matplotlib.pyplot as plt\n",
    "import numpy as np\n",
    "import seaborn as sns\n",
    "import matplotlib.pyplot as plt\n",
    "import filter_feature_selection\n",
    "import scipy.stats as stats"
   ]
  },
  {
   "cell_type": "markdown",
   "metadata": {},
   "source": [
    "The URL dataset with generated lexical features are read from a csv file. These are then displayed for visualization purposes."
   ]
  },
  {
   "cell_type": "code",
   "execution_count": 2,
   "metadata": {},
   "outputs": [
    {
     "data": {
      "text/html": [
       "<div>\n",
       "<style scoped>\n",
       "    .dataframe tbody tr th:only-of-type {\n",
       "        vertical-align: middle;\n",
       "    }\n",
       "\n",
       "    .dataframe tbody tr th {\n",
       "        vertical-align: top;\n",
       "    }\n",
       "\n",
       "    .dataframe thead th {\n",
       "        text-align: right;\n",
       "    }\n",
       "</style>\n",
       "<table border=\"1\" class=\"dataframe\">\n",
       "  <thead>\n",
       "    <tr style=\"text-align: right;\">\n",
       "      <th></th>\n",
       "      <th>url_type</th>\n",
       "      <th>url_length</th>\n",
       "      <th>url_ip_in_domain</th>\n",
       "      <th>url_domain_entropy</th>\n",
       "      <th>url_is_digits_in_domain</th>\n",
       "      <th>url_query_length</th>\n",
       "      <th>url_number_of_parameters</th>\n",
       "      <th>url_number_of_digits</th>\n",
       "      <th>url_string_entropy</th>\n",
       "      <th>url_is_https</th>\n",
       "      <th>...</th>\n",
       "      <th>has_swf_in_string</th>\n",
       "      <th>has_cgi_in_string</th>\n",
       "      <th>has_php_in_string</th>\n",
       "      <th>has_abuse_in_string</th>\n",
       "      <th>has_admin_in_string</th>\n",
       "      <th>has_bin_in_string</th>\n",
       "      <th>has_personal_in_string</th>\n",
       "      <th>has_update_in_string</th>\n",
       "      <th>has_verification_in_string</th>\n",
       "      <th>url_scheme</th>\n",
       "    </tr>\n",
       "  </thead>\n",
       "  <tbody>\n",
       "    <tr>\n",
       "      <th>0</th>\n",
       "      <td>2</td>\n",
       "      <td>16</td>\n",
       "      <td>0</td>\n",
       "      <td>3.169925</td>\n",
       "      <td>0</td>\n",
       "      <td>0</td>\n",
       "      <td>0</td>\n",
       "      <td>0</td>\n",
       "      <td>3.375000</td>\n",
       "      <td>0</td>\n",
       "      <td>...</td>\n",
       "      <td>0</td>\n",
       "      <td>0</td>\n",
       "      <td>0</td>\n",
       "      <td>0</td>\n",
       "      <td>0</td>\n",
       "      <td>0</td>\n",
       "      <td>0</td>\n",
       "      <td>0</td>\n",
       "      <td>0</td>\n",
       "      <td>0</td>\n",
       "    </tr>\n",
       "    <tr>\n",
       "      <th>1</th>\n",
       "      <td>0</td>\n",
       "      <td>35</td>\n",
       "      <td>0</td>\n",
       "      <td>2.807355</td>\n",
       "      <td>1</td>\n",
       "      <td>0</td>\n",
       "      <td>0</td>\n",
       "      <td>1</td>\n",
       "      <td>4.079143</td>\n",
       "      <td>0</td>\n",
       "      <td>...</td>\n",
       "      <td>0</td>\n",
       "      <td>0</td>\n",
       "      <td>0</td>\n",
       "      <td>0</td>\n",
       "      <td>0</td>\n",
       "      <td>0</td>\n",
       "      <td>0</td>\n",
       "      <td>0</td>\n",
       "      <td>0</td>\n",
       "      <td>0</td>\n",
       "    </tr>\n",
       "    <tr>\n",
       "      <th>2</th>\n",
       "      <td>0</td>\n",
       "      <td>31</td>\n",
       "      <td>0</td>\n",
       "      <td>2.921928</td>\n",
       "      <td>0</td>\n",
       "      <td>0</td>\n",
       "      <td>0</td>\n",
       "      <td>1</td>\n",
       "      <td>3.708093</td>\n",
       "      <td>0</td>\n",
       "      <td>...</td>\n",
       "      <td>0</td>\n",
       "      <td>0</td>\n",
       "      <td>0</td>\n",
       "      <td>0</td>\n",
       "      <td>0</td>\n",
       "      <td>0</td>\n",
       "      <td>0</td>\n",
       "      <td>0</td>\n",
       "      <td>0</td>\n",
       "      <td>0</td>\n",
       "    </tr>\n",
       "    <tr>\n",
       "      <th>3</th>\n",
       "      <td>1</td>\n",
       "      <td>88</td>\n",
       "      <td>0</td>\n",
       "      <td>2.896292</td>\n",
       "      <td>0</td>\n",
       "      <td>49</td>\n",
       "      <td>4</td>\n",
       "      <td>7</td>\n",
       "      <td>4.660343</td>\n",
       "      <td>0</td>\n",
       "      <td>...</td>\n",
       "      <td>0</td>\n",
       "      <td>0</td>\n",
       "      <td>1</td>\n",
       "      <td>0</td>\n",
       "      <td>0</td>\n",
       "      <td>0</td>\n",
       "      <td>0</td>\n",
       "      <td>0</td>\n",
       "      <td>0</td>\n",
       "      <td>27</td>\n",
       "    </tr>\n",
       "    <tr>\n",
       "      <th>4</th>\n",
       "      <td>1</td>\n",
       "      <td>235</td>\n",
       "      <td>0</td>\n",
       "      <td>3.405822</td>\n",
       "      <td>0</td>\n",
       "      <td>194</td>\n",
       "      <td>3</td>\n",
       "      <td>22</td>\n",
       "      <td>4.980518</td>\n",
       "      <td>0</td>\n",
       "      <td>...</td>\n",
       "      <td>0</td>\n",
       "      <td>0</td>\n",
       "      <td>1</td>\n",
       "      <td>0</td>\n",
       "      <td>0</td>\n",
       "      <td>0</td>\n",
       "      <td>0</td>\n",
       "      <td>0</td>\n",
       "      <td>0</td>\n",
       "      <td>27</td>\n",
       "    </tr>\n",
       "  </tbody>\n",
       "</table>\n",
       "<p>5 rows × 77 columns</p>\n",
       "</div>"
      ],
      "text/plain": [
       "   url_type  url_length  url_ip_in_domain  url_domain_entropy  \\\n",
       "0         2          16                 0            3.169925   \n",
       "1         0          35                 0            2.807355   \n",
       "2         0          31                 0            2.921928   \n",
       "3         1          88                 0            2.896292   \n",
       "4         1         235                 0            3.405822   \n",
       "\n",
       "   url_is_digits_in_domain  url_query_length  url_number_of_parameters  \\\n",
       "0                        0                 0                         0   \n",
       "1                        1                 0                         0   \n",
       "2                        0                 0                         0   \n",
       "3                        0                49                         4   \n",
       "4                        0               194                         3   \n",
       "\n",
       "   url_number_of_digits  url_string_entropy  url_is_https  ...  \\\n",
       "0                     0            3.375000             0  ...   \n",
       "1                     1            4.079143             0  ...   \n",
       "2                     1            3.708093             0  ...   \n",
       "3                     7            4.660343             0  ...   \n",
       "4                    22            4.980518             0  ...   \n",
       "\n",
       "   has_swf_in_string  has_cgi_in_string  has_php_in_string  \\\n",
       "0                  0                  0                  0   \n",
       "1                  0                  0                  0   \n",
       "2                  0                  0                  0   \n",
       "3                  0                  0                  1   \n",
       "4                  0                  0                  1   \n",
       "\n",
       "   has_abuse_in_string  has_admin_in_string  has_bin_in_string  \\\n",
       "0                    0                    0                  0   \n",
       "1                    0                    0                  0   \n",
       "2                    0                    0                  0   \n",
       "3                    0                    0                  0   \n",
       "4                    0                    0                  0   \n",
       "\n",
       "   has_personal_in_string  has_update_in_string  has_verification_in_string  \\\n",
       "0                       0                     0                           0   \n",
       "1                       0                     0                           0   \n",
       "2                       0                     0                           0   \n",
       "3                       0                     0                           0   \n",
       "4                       0                     0                           0   \n",
       "\n",
       "   url_scheme  \n",
       "0           0  \n",
       "1           0  \n",
       "2           0  \n",
       "3          27  \n",
       "4          27  \n",
       "\n",
       "[5 rows x 77 columns]"
      ]
     },
     "execution_count": 2,
     "metadata": {},
     "output_type": "execute_result"
    }
   ],
   "source": [
    "dataset = pd.read_csv('final_unbalanced_with_lexical.csv')\n",
    "\n",
    "dataset.head()"
   ]
  },
  {
   "cell_type": "code",
   "execution_count": 3,
   "metadata": {},
   "outputs": [],
   "source": [
    "features = dataset.iloc[:, 1:]\n",
    "url_type = dataset.iloc[:, 0]"
   ]
  },
  {
   "cell_type": "code",
   "execution_count": 4,
   "metadata": {},
   "outputs": [
    {
     "data": {
      "text/html": [
       "<div>\n",
       "<style scoped>\n",
       "    .dataframe tbody tr th:only-of-type {\n",
       "        vertical-align: middle;\n",
       "    }\n",
       "\n",
       "    .dataframe tbody tr th {\n",
       "        vertical-align: top;\n",
       "    }\n",
       "\n",
       "    .dataframe thead th {\n",
       "        text-align: right;\n",
       "    }\n",
       "</style>\n",
       "<table border=\"1\" class=\"dataframe\">\n",
       "  <thead>\n",
       "    <tr style=\"text-align: right;\">\n",
       "      <th></th>\n",
       "      <th>url_length</th>\n",
       "      <th>url_ip_in_domain</th>\n",
       "      <th>url_domain_entropy</th>\n",
       "      <th>url_is_digits_in_domain</th>\n",
       "      <th>url_query_length</th>\n",
       "      <th>url_number_of_parameters</th>\n",
       "      <th>url_number_of_digits</th>\n",
       "      <th>url_string_entropy</th>\n",
       "      <th>url_is_https</th>\n",
       "      <th>url_path_length</th>\n",
       "      <th>...</th>\n",
       "      <th>has_swf_in_string</th>\n",
       "      <th>has_cgi_in_string</th>\n",
       "      <th>has_php_in_string</th>\n",
       "      <th>has_abuse_in_string</th>\n",
       "      <th>has_admin_in_string</th>\n",
       "      <th>has_bin_in_string</th>\n",
       "      <th>has_personal_in_string</th>\n",
       "      <th>has_update_in_string</th>\n",
       "      <th>has_verification_in_string</th>\n",
       "      <th>url_scheme</th>\n",
       "    </tr>\n",
       "  </thead>\n",
       "  <tbody>\n",
       "    <tr>\n",
       "      <th>0</th>\n",
       "      <td>16</td>\n",
       "      <td>0</td>\n",
       "      <td>3.169925</td>\n",
       "      <td>0</td>\n",
       "      <td>0</td>\n",
       "      <td>0</td>\n",
       "      <td>0</td>\n",
       "      <td>3.375000</td>\n",
       "      <td>0</td>\n",
       "      <td>16</td>\n",
       "      <td>...</td>\n",
       "      <td>0</td>\n",
       "      <td>0</td>\n",
       "      <td>0</td>\n",
       "      <td>0</td>\n",
       "      <td>0</td>\n",
       "      <td>0</td>\n",
       "      <td>0</td>\n",
       "      <td>0</td>\n",
       "      <td>0</td>\n",
       "      <td>0</td>\n",
       "    </tr>\n",
       "    <tr>\n",
       "      <th>1</th>\n",
       "      <td>35</td>\n",
       "      <td>0</td>\n",
       "      <td>2.807355</td>\n",
       "      <td>1</td>\n",
       "      <td>0</td>\n",
       "      <td>0</td>\n",
       "      <td>1</td>\n",
       "      <td>4.079143</td>\n",
       "      <td>0</td>\n",
       "      <td>35</td>\n",
       "      <td>...</td>\n",
       "      <td>0</td>\n",
       "      <td>0</td>\n",
       "      <td>0</td>\n",
       "      <td>0</td>\n",
       "      <td>0</td>\n",
       "      <td>0</td>\n",
       "      <td>0</td>\n",
       "      <td>0</td>\n",
       "      <td>0</td>\n",
       "      <td>0</td>\n",
       "    </tr>\n",
       "    <tr>\n",
       "      <th>2</th>\n",
       "      <td>31</td>\n",
       "      <td>0</td>\n",
       "      <td>2.921928</td>\n",
       "      <td>0</td>\n",
       "      <td>0</td>\n",
       "      <td>0</td>\n",
       "      <td>1</td>\n",
       "      <td>3.708093</td>\n",
       "      <td>0</td>\n",
       "      <td>31</td>\n",
       "      <td>...</td>\n",
       "      <td>0</td>\n",
       "      <td>0</td>\n",
       "      <td>0</td>\n",
       "      <td>0</td>\n",
       "      <td>0</td>\n",
       "      <td>0</td>\n",
       "      <td>0</td>\n",
       "      <td>0</td>\n",
       "      <td>0</td>\n",
       "      <td>0</td>\n",
       "    </tr>\n",
       "    <tr>\n",
       "      <th>3</th>\n",
       "      <td>88</td>\n",
       "      <td>0</td>\n",
       "      <td>2.896292</td>\n",
       "      <td>0</td>\n",
       "      <td>49</td>\n",
       "      <td>4</td>\n",
       "      <td>7</td>\n",
       "      <td>4.660343</td>\n",
       "      <td>0</td>\n",
       "      <td>10</td>\n",
       "      <td>...</td>\n",
       "      <td>0</td>\n",
       "      <td>0</td>\n",
       "      <td>1</td>\n",
       "      <td>0</td>\n",
       "      <td>0</td>\n",
       "      <td>0</td>\n",
       "      <td>0</td>\n",
       "      <td>0</td>\n",
       "      <td>0</td>\n",
       "      <td>27</td>\n",
       "    </tr>\n",
       "    <tr>\n",
       "      <th>4</th>\n",
       "      <td>235</td>\n",
       "      <td>0</td>\n",
       "      <td>3.405822</td>\n",
       "      <td>0</td>\n",
       "      <td>194</td>\n",
       "      <td>3</td>\n",
       "      <td>22</td>\n",
       "      <td>4.980518</td>\n",
       "      <td>0</td>\n",
       "      <td>10</td>\n",
       "      <td>...</td>\n",
       "      <td>0</td>\n",
       "      <td>0</td>\n",
       "      <td>1</td>\n",
       "      <td>0</td>\n",
       "      <td>0</td>\n",
       "      <td>0</td>\n",
       "      <td>0</td>\n",
       "      <td>0</td>\n",
       "      <td>0</td>\n",
       "      <td>27</td>\n",
       "    </tr>\n",
       "  </tbody>\n",
       "</table>\n",
       "<p>5 rows × 76 columns</p>\n",
       "</div>"
      ],
      "text/plain": [
       "   url_length  url_ip_in_domain  url_domain_entropy  url_is_digits_in_domain  \\\n",
       "0          16                 0            3.169925                        0   \n",
       "1          35                 0            2.807355                        1   \n",
       "2          31                 0            2.921928                        0   \n",
       "3          88                 0            2.896292                        0   \n",
       "4         235                 0            3.405822                        0   \n",
       "\n",
       "   url_query_length  url_number_of_parameters  url_number_of_digits  \\\n",
       "0                 0                         0                     0   \n",
       "1                 0                         0                     1   \n",
       "2                 0                         0                     1   \n",
       "3                49                         4                     7   \n",
       "4               194                         3                    22   \n",
       "\n",
       "   url_string_entropy  url_is_https  url_path_length  ...  has_swf_in_string  \\\n",
       "0            3.375000             0               16  ...                  0   \n",
       "1            4.079143             0               35  ...                  0   \n",
       "2            3.708093             0               31  ...                  0   \n",
       "3            4.660343             0               10  ...                  0   \n",
       "4            4.980518             0               10  ...                  0   \n",
       "\n",
       "   has_cgi_in_string  has_php_in_string  has_abuse_in_string  \\\n",
       "0                  0                  0                    0   \n",
       "1                  0                  0                    0   \n",
       "2                  0                  0                    0   \n",
       "3                  0                  1                    0   \n",
       "4                  0                  1                    0   \n",
       "\n",
       "   has_admin_in_string  has_bin_in_string  has_personal_in_string  \\\n",
       "0                    0                  0                       0   \n",
       "1                    0                  0                       0   \n",
       "2                    0                  0                       0   \n",
       "3                    0                  0                       0   \n",
       "4                    0                  0                       0   \n",
       "\n",
       "   has_update_in_string  has_verification_in_string  url_scheme  \n",
       "0                     0                           0           0  \n",
       "1                     0                           0           0  \n",
       "2                     0                           0           0  \n",
       "3                     0                           0          27  \n",
       "4                     0                           0          27  \n",
       "\n",
       "[5 rows x 76 columns]"
      ]
     },
     "execution_count": 4,
     "metadata": {},
     "output_type": "execute_result"
    }
   ],
   "source": [
    "features.head()"
   ]
  },
  {
   "cell_type": "code",
   "execution_count": 5,
   "metadata": {},
   "outputs": [
    {
     "data": {
      "text/plain": [
       "0    2\n",
       "1    0\n",
       "2    0\n",
       "3    1\n",
       "4    1\n",
       "Name: url_type, dtype: int64"
      ]
     },
     "execution_count": 5,
     "metadata": {},
     "output_type": "execute_result"
    }
   ],
   "source": [
    "url_type.head()"
   ]
  },
  {
   "cell_type": "markdown",
   "metadata": {},
   "source": [
    "The respective F-score of the features are then calculated using ANOVA. The higher the F-score, the better a feature is."
   ]
  },
  {
   "cell_type": "code",
   "execution_count": 6,
   "metadata": {},
   "outputs": [
    {
     "name": "stderr",
     "output_type": "stream",
     "text": [
      "c:\\Users\\Eri\\AppData\\Local\\Programs\\Python\\Python312\\Lib\\site-packages\\sklearn\\feature_selection\\_univariate_selection.py:112: UserWarning: Features [15 51 55] are constant.\n",
      "  warnings.warn(\"Features %s are constant.\" % constant_features_idx, UserWarning)\n",
      "c:\\Users\\Eri\\AppData\\Local\\Programs\\Python\\Python312\\Lib\\site-packages\\sklearn\\feature_selection\\_univariate_selection.py:113: RuntimeWarning: invalid value encountered in divide\n",
      "  f = msb / msw\n"
     ]
    }
   ],
   "source": [
    "anova_features, anova_f_scores, anova_p = filter_feature_selection.anova_feature_selection('final_unbalanced_with_lexical.csv')"
   ]
  },
  {
   "cell_type": "code",
   "execution_count": 7,
   "metadata": {},
   "outputs": [
    {
     "data": {
      "text/plain": [
       "[0.0,\n",
       " 0.0,\n",
       " 0.0,\n",
       " 0.0,\n",
       " 0.0,\n",
       " 0.0,\n",
       " 0.0,\n",
       " 0.0,\n",
       " 0.0,\n",
       " 0.0,\n",
       " 0.0,\n",
       " 0.0,\n",
       " 0.0,\n",
       " 0.0,\n",
       " 0.0,\n",
       " nan,\n",
       " 0.0,\n",
       " 0.0,\n",
       " 0.0,\n",
       " 0.0,\n",
       " 0.0,\n",
       " 0.0,\n",
       " 0.0,\n",
       " 0.0,\n",
       " 1.3363556808913688e-246,\n",
       " 1.8308690110324366e-270,\n",
       " 2.686065802099673e-269,\n",
       " 0.0,\n",
       " 0.0,\n",
       " 0.0,\n",
       " 2.693317015904387e-204,\n",
       " 0.0,\n",
       " 0.0,\n",
       " 0.0,\n",
       " 7.951631019114126e-14,\n",
       " 0.0,\n",
       " 4.975514650286889e-32,\n",
       " 1.7316945019133305e-96,\n",
       " 0.0,\n",
       " 5.881839034303132e-131,\n",
       " 2.0145948867605835e-12,\n",
       " 4.463205248055142e-24,\n",
       " 0.0,\n",
       " 2.973837576321348e-226,\n",
       " 0.0,\n",
       " 0.0,\n",
       " 7.4257812646223305e-140,\n",
       " 0.0,\n",
       " 2.353444594474617e-36,\n",
       " 0.5788005781611546,\n",
       " 0.0,\n",
       " nan,\n",
       " 9.387204251055264e-114,\n",
       " 0.0,\n",
       " 7.573190044270151e-64,\n",
       " nan,\n",
       " 6.727119043616304e-160,\n",
       " 1.1506980460404001e-08,\n",
       " 1.2063942516833e-83,\n",
       " 5.113098970247169e-34,\n",
       " 6.775038073800074e-129,\n",
       " 2.2661288205864433e-186,\n",
       " 9.188109551333743e-09,\n",
       " 3.0783908755593823e-288,\n",
       " 2.4890838507350864e-62,\n",
       " 2.0629466737838045e-06,\n",
       " 2.8070546125808786e-219,\n",
       " 0.0,\n",
       " 8.280974037281753e-44,\n",
       " 0.0,\n",
       " 1.9476165974719253e-256,\n",
       " 1.4702930108098557e-85,\n",
       " 2.782187593527593e-230,\n",
       " 5.1913193837389055e-174]"
      ]
     },
     "execution_count": 7,
     "metadata": {},
     "output_type": "execute_result"
    }
   ],
   "source": [
    "anova_p"
   ]
  },
  {
   "cell_type": "code",
   "execution_count": 8,
   "metadata": {},
   "outputs": [
    {
     "data": {
      "text/plain": [
       "array([1.60765524e+05, 7.47897767e+04, 7.42824343e+04, 7.15210125e+04,\n",
       "       6.75615286e+04, 6.71710644e+04, 6.63563647e+04, 6.63172775e+04,\n",
       "       6.18316675e+04, 4.52817205e+04, 3.34201990e+04, 2.90991994e+04,\n",
       "       2.08984704e+04, 1.61934945e+04, 1.57898157e+04, 1.06584877e+04,\n",
       "       9.87602233e+03, 9.44600272e+03, 8.46484058e+03, 8.27513275e+03,\n",
       "       8.07292369e+03, 7.45079177e+03, 6.81927446e+03, 3.74696210e+03,\n",
       "       2.70266250e+03, 1.94717742e+03, 1.62341576e+03, 1.59797068e+03,\n",
       "       1.54213039e+03, 1.42014433e+03, 1.08295453e+03, 1.03326941e+03,\n",
       "       9.70359275e+02, 8.35195654e+02, 7.97792043e+02, 7.89538690e+02,\n",
       "       7.43313742e+02, 5.97053012e+02, 5.74368125e+02, 4.44025916e+02,\n",
       "       4.16668656e+02, 4.14873373e+02, 3.95080626e+02, 3.79942508e+02,\n",
       "       3.54829634e+02, 3.48629593e+02, 3.37896155e+02, 3.14841459e+02,\n",
       "       2.87258755e+02, 2.68239577e+02, 2.46523493e+02, 2.15680883e+02,\n",
       "       2.01986459e+02, 1.98814056e+02, 1.75510318e+02, 1.48932766e+02,\n",
       "       1.32106123e+02, 1.29158728e+02, 9.86635696e+01, 9.63263233e+01,\n",
       "       6.77674497e+01, 5.62612397e+01, 5.26511460e+01, 4.95787478e+01,\n",
       "       3.72747746e+01, 2.13558022e+01, 1.91658732e+01, 1.34348732e+01,\n",
       "       1.32811785e+01, 9.72341310e+00, 6.56437647e-01])"
      ]
     },
     "execution_count": 8,
     "metadata": {},
     "output_type": "execute_result"
    }
   ],
   "source": [
    "anova_f_scores = [i for i in anova_f_scores if str(i) != 'nan']\n",
    "anova_f_scores = np.array(anova_f_scores)\n",
    "\n",
    "anova_f_scores"
   ]
  },
  {
   "cell_type": "markdown",
   "metadata": {},
   "source": [
    "Using the computed F-scores, the Z-scores are obtained so that the features with F-scores belonging in the upper 50 percentile are selected."
   ]
  },
  {
   "cell_type": "code",
   "execution_count": 9,
   "metadata": {},
   "outputs": [],
   "source": [
    "anova_z_scores = stats.zscore(anova_f_scores)"
   ]
  },
  {
   "cell_type": "code",
   "execution_count": 10,
   "metadata": {},
   "outputs": [],
   "source": [
    "percentile = []\n",
    "for z_score in anova_z_scores:\n",
    "    percentile.append(stats.norm.cdf(z_score))"
   ]
  },
  {
   "cell_type": "code",
   "execution_count": 11,
   "metadata": {},
   "outputs": [
    {
     "name": "stdout",
     "output_type": "stream",
     "text": [
      "Feature Percentile: \n",
      "url_host_length :  0.9999999154054002\n",
      "url_is_https :  0.9851449114414272\n",
      "url_ip_in_domain :  0.984454144298416\n",
      "has_php_in_string :  0.9801919264023486\n",
      "url_number_of_parameters :  0.9723791520118684\n",
      "has_exe_in_string :  0.9714855635190668\n",
      "url_has_port :  0.969543544206523\n",
      "url_num_equal :  0.9694476816886433\n",
      "url_num_ampersand :  0.9566690361059697\n",
      "url_is_digits_in_domain :  0.8696903322040741\n",
      "url_path_length :  0.7590513353039839\n",
      "url_num_question_mark :  0.7087181178585258\n",
      "url_query_length :  0.6018388999372104\n",
      "url_string_entropy :  0.5361937075903936\n",
      "url_num_periods :  0.5304886673539473\n",
      "url_num_forward_slash :  0.45782323516996204\n",
      "url_domain_len :  0.44680580887724913\n",
      "url_number_of_subdirectories :  0.440767844819599\n",
      "has_linkeq_in_string :  0.4270448461906734\n",
      "url_num_of_hyphens :  0.42440112619347753\n",
      "url_number_of_letters :  0.4215869349576995\n",
      "url_domain_entropy :  0.4129542634720332\n",
      "url_length :  0.40423422463569514\n",
      "url_num_underscore :  0.36256077818091026\n",
      "has_jpg_in_string :  0.3487317001362002\n",
      "url_number_of_digits :  0.33884982864679786\n",
      "has_zip_in_string :  0.3346482051070492\n",
      "url_is_encoded :  0.3343188584606082\n",
      "url_num_subdomain :  0.33359654052269677\n",
      "has_login_in_string :  0.3320207461493714\n",
      "has_paypal_in_string :  0.32768048737602146\n",
      "has_webscr_in_string :  0.32704289340156134\n",
      "has_account_in_string :  0.3262363106262663\n",
      "has_signin_in_string :  0.3245061026186447\n",
      "has_blog_in_string :  0.32402797129850364\n",
      "has_loginphp_in_string :  0.32392250751519414\n",
      "url_num_mod_sign :  0.32333209295450827\n",
      "url_num_at :  0.32146689230571696\n",
      "has_admin_in_string :  0.3211780028807598\n",
      "has_mailphp_in_string :  0.319520210812112\n",
      "url_num_open_parenthesis :  0.31917271625964655\n",
      "url_num_close_parenthesis :  0.3191499179561289\n",
      "has_bin_in_string :  0.3188986151237668\n",
      "url_num_semicolon :  0.3187064669472786\n",
      "has_update_in_string :  0.318387816653139\n",
      "has_loginhtm_in_string :  0.31830916672363935\n",
      "has_cgi_in_string :  0.3181730282460431\n",
      "has_secure_in_string :  0.3178806950758769\n",
      "has_css_in_string :  0.3175310959294779\n",
      "has_verification_in_string :  0.3172901306069402\n",
      "has_configbin_in_string :  0.3170150912365416\n",
      "has_rar_in_string :  0.31662463597549834\n",
      "has_logon_in_string :  0.31645133542908677\n",
      "has_files_in_string :  0.3164111949587361\n",
      "has_plugins_in_string :  0.31611639875784364\n",
      "has_confirm_in_string :  0.31578033089489854\n",
      "has_personal_in_string :  0.31556764002579896\n",
      "has_js_in_string :  0.31553039086038365\n",
      "has_order_in_string :  0.315145103346349\n",
      "has_jar_in_string :  0.3151155819690873\n",
      "has_abuse_in_string :  0.3147549548976448\n",
      "has_gif_in_string :  0.3146097101617503\n",
      "has_payment_in_string :  0.3145641452795682\n",
      "has_banking_in_string :  0.31452536915847534\n",
      "has_loginasp_in_string :  0.31437010368756163\n",
      "has_ebayisapi_in_string :  0.3141692687832095\n",
      "has_signon_in_string :  0.31414164478489337\n",
      "has_shopping_in_string :  0.31406935826470017\n",
      "has_downloadphp_in_string :  0.3140674197731299\n",
      "has_swf_in_string :  0.3140225485058432\n",
      "has_viewerphp_in_string :  0.31390820638347744\n"
     ]
    }
   ],
   "source": [
    "feature_percentile_dict = {}\n",
    "print('Feature Percentile: ')\n",
    "for i in range(len(percentile)):\n",
    "    print(anova_features[i], ': ', percentile[i])\n",
    "    if percentile[i] > 0.50:\n",
    "        feature_percentile_dict[anova_features[i]] = percentile[i]"
   ]
  },
  {
   "cell_type": "markdown",
   "metadata": {},
   "source": [
    "Shown below are the features with F-scores that belong in the upper 50 percentile."
   ]
  },
  {
   "cell_type": "code",
   "execution_count": 12,
   "metadata": {},
   "outputs": [
    {
     "data": {
      "text/plain": [
       "{'url_host_length': 0.9999999154054002,\n",
       " 'url_is_https': 0.9851449114414272,\n",
       " 'url_ip_in_domain': 0.984454144298416,\n",
       " 'has_php_in_string': 0.9801919264023486,\n",
       " 'url_number_of_parameters': 0.9723791520118684,\n",
       " 'has_exe_in_string': 0.9714855635190668,\n",
       " 'url_has_port': 0.969543544206523,\n",
       " 'url_num_equal': 0.9694476816886433,\n",
       " 'url_num_ampersand': 0.9566690361059697,\n",
       " 'url_is_digits_in_domain': 0.8696903322040741,\n",
       " 'url_path_length': 0.7590513353039839,\n",
       " 'url_num_question_mark': 0.7087181178585258,\n",
       " 'url_query_length': 0.6018388999372104,\n",
       " 'url_string_entropy': 0.5361937075903936,\n",
       " 'url_num_periods': 0.5304886673539473}"
      ]
     },
     "execution_count": 12,
     "metadata": {},
     "output_type": "execute_result"
    }
   ],
   "source": [
    "feature_percentile_dict"
   ]
  },
  {
   "cell_type": "markdown",
   "metadata": {},
   "source": [
    "Chi2 is used to determine the significance of categorical features. The higher the Chi2 statistics, the better a feature is and the lower its P value, the more significant the observation. Based on the results, both categorical features are to be retained."
   ]
  },
  {
   "cell_type": "code",
   "execution_count": 13,
   "metadata": {},
   "outputs": [
    {
     "name": "stdout",
     "output_type": "stream",
     "text": [
      "Chi2 Statistics: \n",
      "[88439618.85652827  6900658.46790684]\n",
      "Chi2 P Values: \n",
      "[0. 0.]\n",
      "get_tld       8.843962e+07\n",
      "url_scheme    6.900658e+06\n",
      "get_tld       0.0\n",
      "url_scheme    0.0\n",
      "dtype: float64\n"
     ]
    }
   ],
   "source": [
    "filter_feature_selection.chi2_feature_selection('final_unbalanced_with_lexical.csv')"
   ]
  },
  {
   "cell_type": "markdown",
   "metadata": {},
   "source": [
    "Features with high correlation are to be weeded out. This is to eliminate redundancy in the featureset."
   ]
  },
  {
   "cell_type": "code",
   "execution_count": 14,
   "metadata": {},
   "outputs": [
    {
     "data": {
      "text/plain": [
       "[['url_num_equal', 'url_num_ampersand', 'url_number_of_parameters'],\n",
       " ['url_num_forward_slash', 'url_number_of_subdirectories'],\n",
       " ['url_num_close_parenthesis', 'url_num_open_parenthesis'],\n",
       " ['url_domain_len', 'url_domain_entropy'],\n",
       " ['url_number_of_letters', 'url_length']]"
      ]
     },
     "execution_count": 14,
     "metadata": {},
     "output_type": "execute_result"
    }
   ],
   "source": [
    "features_high_correlation = filter_feature_selection.correlation_feature_selection('final_unbalanced_with_lexical.csv')\n",
    "\n",
    "features_high_correlation"
   ]
  },
  {
   "cell_type": "code",
   "execution_count": 15,
   "metadata": {},
   "outputs": [
    {
     "name": "stdout",
     "output_type": "stream",
     "text": [
      "Removed:  url_num_equal\n",
      "Removed:  url_num_ampersand\n",
      "['url_num_equal', 'url_num_ampersand']\n"
     ]
    }
   ],
   "source": [
    "to_remove = []\n",
    "\n",
    "for feature in feature_percentile_dict:\n",
    "    for high_corr_group in features_high_correlation:\n",
    "        if feature in high_corr_group:\n",
    "            for ref_feature in high_corr_group:\n",
    "                if (ref_feature != feature) and (ref_feature in feature_percentile_dict.keys()):\n",
    "                    if feature_percentile_dict[feature] >= feature_percentile_dict[ref_feature]:\n",
    "                        print('Removed: ', ref_feature)\n",
    "                        to_remove.append(ref_feature)\n",
    "                        high_corr_group.remove(ref_feature)\n",
    "                        #feature_percentile_dict.pop(ref_feature, None)\n",
    "                    else:\n",
    "                        print('Removed: ', feature)\n",
    "                        to_remove.append(feature)\n",
    "                        high_corr_group.remove(feature)\n",
    "                        #feature_percentile_dict.pop(feature, None)\n",
    "\n",
    "print(to_remove)"
   ]
  },
  {
   "cell_type": "code",
   "execution_count": 16,
   "metadata": {},
   "outputs": [],
   "source": [
    "for feature in to_remove:\n",
    "    feature_percentile_dict.pop(feature, None)"
   ]
  },
  {
   "cell_type": "code",
   "execution_count": 17,
   "metadata": {},
   "outputs": [
    {
     "data": {
      "text/plain": [
       "['url_host_length',\n",
       " 'url_is_https',\n",
       " 'url_ip_in_domain',\n",
       " 'has_php_in_string',\n",
       " 'url_number_of_parameters',\n",
       " 'has_exe_in_string',\n",
       " 'url_has_port',\n",
       " 'url_is_digits_in_domain',\n",
       " 'url_path_length',\n",
       " 'url_num_question_mark',\n",
       " 'url_query_length',\n",
       " 'url_string_entropy',\n",
       " 'url_num_periods']"
      ]
     },
     "execution_count": 17,
     "metadata": {},
     "output_type": "execute_result"
    }
   ],
   "source": [
    "final_anova_features = [key for key in feature_percentile_dict.keys()]\n",
    "\n",
    "final_anova_features"
   ]
  },
  {
   "cell_type": "markdown",
   "metadata": {},
   "source": [
    "After combining the results of ANOVA and Chi2 and removing the highly correlated features, the final featureset is seen below."
   ]
  },
  {
   "cell_type": "code",
   "execution_count": 18,
   "metadata": {},
   "outputs": [
    {
     "data": {
      "text/plain": [
       "['url_host_length',\n",
       " 'url_is_https',\n",
       " 'url_ip_in_domain',\n",
       " 'has_php_in_string',\n",
       " 'url_number_of_parameters',\n",
       " 'has_exe_in_string',\n",
       " 'url_has_port',\n",
       " 'url_is_digits_in_domain',\n",
       " 'url_path_length',\n",
       " 'url_num_question_mark',\n",
       " 'url_query_length',\n",
       " 'url_string_entropy',\n",
       " 'url_num_periods',\n",
       " 'get_tld',\n",
       " 'url_scheme']"
      ]
     },
     "execution_count": 18,
     "metadata": {},
     "output_type": "execute_result"
    }
   ],
   "source": [
    "final_features = final_anova_features + ['get_tld'] + ['url_scheme'] # ADD CATEGORICAL IF GOOD CHI2 SCORE AND SIGNIFICANT BASED ON P VALUE | WILL AUTOMATE LATER\n",
    "\n",
    "final_features"
   ]
  }
 ],
 "metadata": {
  "kernelspec": {
   "display_name": "Python 3",
   "language": "python",
   "name": "python3"
  },
  "language_info": {
   "codemirror_mode": {
    "name": "ipython",
    "version": 3
   },
   "file_extension": ".py",
   "mimetype": "text/x-python",
   "name": "python",
   "nbconvert_exporter": "python",
   "pygments_lexer": "ipython3",
   "version": "3.12.0"
  }
 },
 "nbformat": 4,
 "nbformat_minor": 2
}
