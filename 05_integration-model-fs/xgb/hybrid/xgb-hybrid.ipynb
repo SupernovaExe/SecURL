{
 "cells": [
  {
   "cell_type": "markdown",
   "metadata": {},
   "source": [
    "# XGB Classifier with Filter-Based FS\n",
    "\n",
    "Steven Sison | March 9, 2024"
   ]
  },
  {
   "cell_type": "markdown",
   "metadata": {},
   "source": [
    "## Description"
   ]
  },
  {
   "cell_type": "markdown",
   "metadata": {},
   "source": [
    "This document will be used to train a model using the reduced feature set obtain by using the wrapper-based method, forward feature selection. The model will be evaluated in terms of the usual metrics (accuracy, precision, F1-score, recall) as well as the training time. The model will also be stored for future evaluation purposes."
   ]
  },
  {
   "cell_type": "markdown",
   "metadata": {},
   "source": [
    "## Training the Model"
   ]
  },
  {
   "cell_type": "markdown",
   "metadata": {},
   "source": [
    "### Preliminaries"
   ]
  },
  {
   "cell_type": "markdown",
   "metadata": {},
   "source": [
    "#### 1. Loading the Dataset"
   ]
  },
  {
   "cell_type": "code",
   "execution_count": 1,
   "metadata": {},
   "outputs": [
    {
     "data": {
      "text/html": [
       "<div>\n",
       "<style scoped>\n",
       "    .dataframe tbody tr th:only-of-type {\n",
       "        vertical-align: middle;\n",
       "    }\n",
       "\n",
       "    .dataframe tbody tr th {\n",
       "        vertical-align: top;\n",
       "    }\n",
       "\n",
       "    .dataframe thead th {\n",
       "        text-align: right;\n",
       "    }\n",
       "</style>\n",
       "<table border=\"1\" class=\"dataframe\">\n",
       "  <thead>\n",
       "    <tr style=\"text-align: right;\">\n",
       "      <th></th>\n",
       "      <th>url_type</th>\n",
       "      <th>url_length</th>\n",
       "      <th>url_ip_in_domain</th>\n",
       "      <th>url_domain_entropy</th>\n",
       "      <th>url_is_digits_in_domain</th>\n",
       "      <th>url_query_length</th>\n",
       "      <th>url_number_of_parameters</th>\n",
       "      <th>url_number_of_digits</th>\n",
       "      <th>url_string_entropy</th>\n",
       "      <th>url_is_https</th>\n",
       "      <th>...</th>\n",
       "      <th>has_swf_in_string</th>\n",
       "      <th>has_cgi_in_string</th>\n",
       "      <th>has_php_in_string</th>\n",
       "      <th>has_abuse_in_string</th>\n",
       "      <th>has_admin_in_string</th>\n",
       "      <th>has_bin_in_string</th>\n",
       "      <th>has_personal_in_string</th>\n",
       "      <th>has_update_in_string</th>\n",
       "      <th>has_verification_in_string</th>\n",
       "      <th>url_scheme</th>\n",
       "    </tr>\n",
       "  </thead>\n",
       "  <tbody>\n",
       "    <tr>\n",
       "      <th>0</th>\n",
       "      <td>2</td>\n",
       "      <td>16</td>\n",
       "      <td>0</td>\n",
       "      <td>3.169925</td>\n",
       "      <td>0</td>\n",
       "      <td>0</td>\n",
       "      <td>0</td>\n",
       "      <td>0</td>\n",
       "      <td>3.375000</td>\n",
       "      <td>0</td>\n",
       "      <td>...</td>\n",
       "      <td>0</td>\n",
       "      <td>0</td>\n",
       "      <td>0</td>\n",
       "      <td>0</td>\n",
       "      <td>0</td>\n",
       "      <td>0</td>\n",
       "      <td>0</td>\n",
       "      <td>0</td>\n",
       "      <td>0</td>\n",
       "      <td>0</td>\n",
       "    </tr>\n",
       "    <tr>\n",
       "      <th>1</th>\n",
       "      <td>0</td>\n",
       "      <td>35</td>\n",
       "      <td>0</td>\n",
       "      <td>2.807355</td>\n",
       "      <td>1</td>\n",
       "      <td>0</td>\n",
       "      <td>0</td>\n",
       "      <td>1</td>\n",
       "      <td>4.079143</td>\n",
       "      <td>0</td>\n",
       "      <td>...</td>\n",
       "      <td>0</td>\n",
       "      <td>0</td>\n",
       "      <td>0</td>\n",
       "      <td>0</td>\n",
       "      <td>0</td>\n",
       "      <td>0</td>\n",
       "      <td>0</td>\n",
       "      <td>0</td>\n",
       "      <td>0</td>\n",
       "      <td>0</td>\n",
       "    </tr>\n",
       "    <tr>\n",
       "      <th>2</th>\n",
       "      <td>0</td>\n",
       "      <td>31</td>\n",
       "      <td>0</td>\n",
       "      <td>2.921928</td>\n",
       "      <td>0</td>\n",
       "      <td>0</td>\n",
       "      <td>0</td>\n",
       "      <td>1</td>\n",
       "      <td>3.708093</td>\n",
       "      <td>0</td>\n",
       "      <td>...</td>\n",
       "      <td>0</td>\n",
       "      <td>0</td>\n",
       "      <td>0</td>\n",
       "      <td>0</td>\n",
       "      <td>0</td>\n",
       "      <td>0</td>\n",
       "      <td>0</td>\n",
       "      <td>0</td>\n",
       "      <td>0</td>\n",
       "      <td>0</td>\n",
       "    </tr>\n",
       "    <tr>\n",
       "      <th>3</th>\n",
       "      <td>1</td>\n",
       "      <td>88</td>\n",
       "      <td>0</td>\n",
       "      <td>2.896292</td>\n",
       "      <td>0</td>\n",
       "      <td>49</td>\n",
       "      <td>4</td>\n",
       "      <td>7</td>\n",
       "      <td>4.660343</td>\n",
       "      <td>0</td>\n",
       "      <td>...</td>\n",
       "      <td>0</td>\n",
       "      <td>0</td>\n",
       "      <td>1</td>\n",
       "      <td>0</td>\n",
       "      <td>0</td>\n",
       "      <td>0</td>\n",
       "      <td>0</td>\n",
       "      <td>0</td>\n",
       "      <td>0</td>\n",
       "      <td>27</td>\n",
       "    </tr>\n",
       "    <tr>\n",
       "      <th>4</th>\n",
       "      <td>1</td>\n",
       "      <td>235</td>\n",
       "      <td>0</td>\n",
       "      <td>3.405822</td>\n",
       "      <td>0</td>\n",
       "      <td>194</td>\n",
       "      <td>3</td>\n",
       "      <td>22</td>\n",
       "      <td>4.980518</td>\n",
       "      <td>0</td>\n",
       "      <td>...</td>\n",
       "      <td>0</td>\n",
       "      <td>0</td>\n",
       "      <td>1</td>\n",
       "      <td>0</td>\n",
       "      <td>0</td>\n",
       "      <td>0</td>\n",
       "      <td>0</td>\n",
       "      <td>0</td>\n",
       "      <td>0</td>\n",
       "      <td>27</td>\n",
       "    </tr>\n",
       "  </tbody>\n",
       "</table>\n",
       "<p>5 rows × 77 columns</p>\n",
       "</div>"
      ],
      "text/plain": [
       "   url_type  url_length  url_ip_in_domain  url_domain_entropy  \\\n",
       "0         2          16                 0            3.169925   \n",
       "1         0          35                 0            2.807355   \n",
       "2         0          31                 0            2.921928   \n",
       "3         1          88                 0            2.896292   \n",
       "4         1         235                 0            3.405822   \n",
       "\n",
       "   url_is_digits_in_domain  url_query_length  url_number_of_parameters  \\\n",
       "0                        0                 0                         0   \n",
       "1                        1                 0                         0   \n",
       "2                        0                 0                         0   \n",
       "3                        0                49                         4   \n",
       "4                        0               194                         3   \n",
       "\n",
       "   url_number_of_digits  url_string_entropy  url_is_https  ...  \\\n",
       "0                     0            3.375000             0  ...   \n",
       "1                     1            4.079143             0  ...   \n",
       "2                     1            3.708093             0  ...   \n",
       "3                     7            4.660343             0  ...   \n",
       "4                    22            4.980518             0  ...   \n",
       "\n",
       "   has_swf_in_string  has_cgi_in_string  has_php_in_string  \\\n",
       "0                  0                  0                  0   \n",
       "1                  0                  0                  0   \n",
       "2                  0                  0                  0   \n",
       "3                  0                  0                  1   \n",
       "4                  0                  0                  1   \n",
       "\n",
       "   has_abuse_in_string  has_admin_in_string  has_bin_in_string  \\\n",
       "0                    0                    0                  0   \n",
       "1                    0                    0                  0   \n",
       "2                    0                    0                  0   \n",
       "3                    0                    0                  0   \n",
       "4                    0                    0                  0   \n",
       "\n",
       "   has_personal_in_string  has_update_in_string  has_verification_in_string  \\\n",
       "0                       0                     0                           0   \n",
       "1                       0                     0                           0   \n",
       "2                       0                     0                           0   \n",
       "3                       0                     0                           0   \n",
       "4                       0                     0                           0   \n",
       "\n",
       "   url_scheme  \n",
       "0           0  \n",
       "1           0  \n",
       "2           0  \n",
       "3          27  \n",
       "4          27  \n",
       "\n",
       "[5 rows x 77 columns]"
      ]
     },
     "execution_count": 1,
     "metadata": {},
     "output_type": "execute_result"
    }
   ],
   "source": [
    "import pandas as pd                     # For data transformation\n",
    "import numpy as numpy                   # For scientific calculations\n",
    "import seaborn as sns                   # For data visualizations\n",
    "import matplotlib.pyplot as plt         # For plotting\n",
    "import plotly.graph_objects as go       # For plotting\n",
    "from sklearn.model_selection import train_test_split, cross_val_score, cross_val_predict\n",
    "from sklearn.metrics import accuracy_score, recall_score, precision_score, f1_score, classification_report\n",
    "from sklearn.metrics import confusion_matrix, classification_report, accuracy_score, ConfusionMatrixDisplay\n",
    "from xgboost import XGBClassifier\n",
    "from sklearn.pipeline import Pipeline\n",
    "import time\n",
    "from datetime import datetime\n",
    "import joblib\n",
    "import os\n",
    "\n",
    "dataset = pd.read_csv(\"../../../02_feature-engineering/final-datasets/final_unbalanced_withLexical.csv\")      # Loading the dataset\n",
    "\n",
    "dataset.head()"
   ]
  },
  {
   "cell_type": "code",
   "execution_count": 2,
   "metadata": {},
   "outputs": [
    {
     "data": {
      "text/html": [
       "<div>\n",
       "<style scoped>\n",
       "    .dataframe tbody tr th:only-of-type {\n",
       "        vertical-align: middle;\n",
       "    }\n",
       "\n",
       "    .dataframe tbody tr th {\n",
       "        vertical-align: top;\n",
       "    }\n",
       "\n",
       "    .dataframe thead th {\n",
       "        text-align: right;\n",
       "    }\n",
       "</style>\n",
       "<table border=\"1\" class=\"dataframe\">\n",
       "  <thead>\n",
       "    <tr style=\"text-align: right;\">\n",
       "      <th></th>\n",
       "      <th>url_type</th>\n",
       "      <th>url_length</th>\n",
       "      <th>url_ip_in_domain</th>\n",
       "      <th>url_domain_entropy</th>\n",
       "      <th>url_is_digits_in_domain</th>\n",
       "      <th>url_query_length</th>\n",
       "      <th>url_number_of_parameters</th>\n",
       "      <th>url_number_of_digits</th>\n",
       "      <th>url_string_entropy</th>\n",
       "      <th>url_is_https</th>\n",
       "      <th>...</th>\n",
       "      <th>has_swf_in_string</th>\n",
       "      <th>has_cgi_in_string</th>\n",
       "      <th>has_php_in_string</th>\n",
       "      <th>has_abuse_in_string</th>\n",
       "      <th>has_admin_in_string</th>\n",
       "      <th>has_bin_in_string</th>\n",
       "      <th>has_personal_in_string</th>\n",
       "      <th>has_update_in_string</th>\n",
       "      <th>has_verification_in_string</th>\n",
       "      <th>url_scheme</th>\n",
       "    </tr>\n",
       "  </thead>\n",
       "  <tbody>\n",
       "    <tr>\n",
       "      <th>0</th>\n",
       "      <td>2</td>\n",
       "      <td>16</td>\n",
       "      <td>0</td>\n",
       "      <td>3.169925</td>\n",
       "      <td>0</td>\n",
       "      <td>0</td>\n",
       "      <td>0</td>\n",
       "      <td>0</td>\n",
       "      <td>3.375000</td>\n",
       "      <td>0</td>\n",
       "      <td>...</td>\n",
       "      <td>0</td>\n",
       "      <td>0</td>\n",
       "      <td>0</td>\n",
       "      <td>0</td>\n",
       "      <td>0</td>\n",
       "      <td>0</td>\n",
       "      <td>0</td>\n",
       "      <td>0</td>\n",
       "      <td>0</td>\n",
       "      <td>0</td>\n",
       "    </tr>\n",
       "    <tr>\n",
       "      <th>1</th>\n",
       "      <td>0</td>\n",
       "      <td>35</td>\n",
       "      <td>0</td>\n",
       "      <td>2.807355</td>\n",
       "      <td>1</td>\n",
       "      <td>0</td>\n",
       "      <td>0</td>\n",
       "      <td>1</td>\n",
       "      <td>4.079143</td>\n",
       "      <td>0</td>\n",
       "      <td>...</td>\n",
       "      <td>0</td>\n",
       "      <td>0</td>\n",
       "      <td>0</td>\n",
       "      <td>0</td>\n",
       "      <td>0</td>\n",
       "      <td>0</td>\n",
       "      <td>0</td>\n",
       "      <td>0</td>\n",
       "      <td>0</td>\n",
       "      <td>0</td>\n",
       "    </tr>\n",
       "    <tr>\n",
       "      <th>2</th>\n",
       "      <td>0</td>\n",
       "      <td>31</td>\n",
       "      <td>0</td>\n",
       "      <td>2.921928</td>\n",
       "      <td>0</td>\n",
       "      <td>0</td>\n",
       "      <td>0</td>\n",
       "      <td>1</td>\n",
       "      <td>3.708093</td>\n",
       "      <td>0</td>\n",
       "      <td>...</td>\n",
       "      <td>0</td>\n",
       "      <td>0</td>\n",
       "      <td>0</td>\n",
       "      <td>0</td>\n",
       "      <td>0</td>\n",
       "      <td>0</td>\n",
       "      <td>0</td>\n",
       "      <td>0</td>\n",
       "      <td>0</td>\n",
       "      <td>0</td>\n",
       "    </tr>\n",
       "    <tr>\n",
       "      <th>3</th>\n",
       "      <td>1</td>\n",
       "      <td>88</td>\n",
       "      <td>0</td>\n",
       "      <td>2.896292</td>\n",
       "      <td>0</td>\n",
       "      <td>49</td>\n",
       "      <td>4</td>\n",
       "      <td>7</td>\n",
       "      <td>4.660343</td>\n",
       "      <td>0</td>\n",
       "      <td>...</td>\n",
       "      <td>0</td>\n",
       "      <td>0</td>\n",
       "      <td>1</td>\n",
       "      <td>0</td>\n",
       "      <td>0</td>\n",
       "      <td>0</td>\n",
       "      <td>0</td>\n",
       "      <td>0</td>\n",
       "      <td>0</td>\n",
       "      <td>27</td>\n",
       "    </tr>\n",
       "    <tr>\n",
       "      <th>4</th>\n",
       "      <td>1</td>\n",
       "      <td>235</td>\n",
       "      <td>0</td>\n",
       "      <td>3.405822</td>\n",
       "      <td>0</td>\n",
       "      <td>194</td>\n",
       "      <td>3</td>\n",
       "      <td>22</td>\n",
       "      <td>4.980518</td>\n",
       "      <td>0</td>\n",
       "      <td>...</td>\n",
       "      <td>0</td>\n",
       "      <td>0</td>\n",
       "      <td>1</td>\n",
       "      <td>0</td>\n",
       "      <td>0</td>\n",
       "      <td>0</td>\n",
       "      <td>0</td>\n",
       "      <td>0</td>\n",
       "      <td>0</td>\n",
       "      <td>27</td>\n",
       "    </tr>\n",
       "  </tbody>\n",
       "</table>\n",
       "<p>5 rows × 77 columns</p>\n",
       "</div>"
      ],
      "text/plain": [
       "   url_type  url_length  url_ip_in_domain  url_domain_entropy  \\\n",
       "0         2          16                 0            3.169925   \n",
       "1         0          35                 0            2.807355   \n",
       "2         0          31                 0            2.921928   \n",
       "3         1          88                 0            2.896292   \n",
       "4         1         235                 0            3.405822   \n",
       "\n",
       "   url_is_digits_in_domain  url_query_length  url_number_of_parameters  \\\n",
       "0                        0                 0                         0   \n",
       "1                        1                 0                         0   \n",
       "2                        0                 0                         0   \n",
       "3                        0                49                         4   \n",
       "4                        0               194                         3   \n",
       "\n",
       "   url_number_of_digits  url_string_entropy  url_is_https  ...  \\\n",
       "0                     0            3.375000             0  ...   \n",
       "1                     1            4.079143             0  ...   \n",
       "2                     1            3.708093             0  ...   \n",
       "3                     7            4.660343             0  ...   \n",
       "4                    22            4.980518             0  ...   \n",
       "\n",
       "   has_swf_in_string  has_cgi_in_string  has_php_in_string  \\\n",
       "0                  0                  0                  0   \n",
       "1                  0                  0                  0   \n",
       "2                  0                  0                  0   \n",
       "3                  0                  0                  1   \n",
       "4                  0                  0                  1   \n",
       "\n",
       "   has_abuse_in_string  has_admin_in_string  has_bin_in_string  \\\n",
       "0                    0                    0                  0   \n",
       "1                    0                    0                  0   \n",
       "2                    0                    0                  0   \n",
       "3                    0                    0                  0   \n",
       "4                    0                    0                  0   \n",
       "\n",
       "   has_personal_in_string  has_update_in_string  has_verification_in_string  \\\n",
       "0                       0                     0                           0   \n",
       "1                       0                     0                           0   \n",
       "2                       0                     0                           0   \n",
       "3                       0                     0                           0   \n",
       "4                       0                     0                           0   \n",
       "\n",
       "   url_scheme  \n",
       "0           0  \n",
       "1           0  \n",
       "2           0  \n",
       "3          27  \n",
       "4          27  \n",
       "\n",
       "[5 rows x 77 columns]"
      ]
     },
     "execution_count": 2,
     "metadata": {},
     "output_type": "execute_result"
    }
   ],
   "source": [
    "dataset.head()"
   ]
  },
  {
   "cell_type": "code",
   "execution_count": 3,
   "metadata": {},
   "outputs": [],
   "source": [
    "x_train, x_test, y_train, y_test = train_test_split(dataset.drop(columns=['url_type']), dataset['url_type'], test_size = 0.2, random_state=42)"
   ]
  },
  {
   "cell_type": "markdown",
   "metadata": {},
   "source": [
    "#### 2. Preprocessing (Balancing)"
   ]
  },
  {
   "cell_type": "markdown",
   "metadata": {},
   "source": []
  },
  {
   "cell_type": "code",
   "execution_count": 4,
   "metadata": {},
   "outputs": [
    {
     "data": {
      "text/plain": [
       "url_type\n",
       "0    428080\n",
       "2    134094\n",
       "1     95308\n",
       "3     26700\n",
       "Name: count, dtype: int64"
      ]
     },
     "execution_count": 4,
     "metadata": {},
     "output_type": "execute_result"
    }
   ],
   "source": [
    "dataset['url_type'].value_counts()"
   ]
  },
  {
   "cell_type": "markdown",
   "metadata": {},
   "source": [
    "#### 3. Removing Unnecessary Features"
   ]
  },
  {
   "cell_type": "code",
   "execution_count": 5,
   "metadata": {},
   "outputs": [
    {
     "name": "stdout",
     "output_type": "stream",
     "text": [
      "11\n"
     ]
    }
   ],
   "source": [
    "important_features_hybrid = ['url_is_digits_in_domain',\n",
    "                             'url_query_length',\n",
    "                             'url_number_of_parameters',\n",
    "                             'url_string_entropy',\n",
    "                             'url_path_length',\n",
    "                             'url_host_length',\n",
    "                             'get_tld',\n",
    "                             'url_num_periods',\n",
    "                             'has_exe_in_string',\n",
    "                             'has_php_in_string',\n",
    "                             'url_scheme']\n",
    "\n",
    "print(len(important_features_hybrid))\n",
    "\n",
    "X_test = x_test[important_features_hybrid]\n",
    "X_train = x_train[important_features_hybrid]"
   ]
  },
  {
   "cell_type": "markdown",
   "metadata": {},
   "source": [
    "#### Model Training"
   ]
  },
  {
   "cell_type": "code",
   "execution_count": 6,
   "metadata": {},
   "outputs": [
    {
     "name": "stderr",
     "output_type": "stream",
     "text": [
      "c:\\Users\\sison\\AppData\\Local\\Programs\\Python\\Python311\\Lib\\site-packages\\xgboost\\core.py:726: FutureWarning: Pass `objective` as keyword args.\n",
      "  warnings.warn(msg, FutureWarning)\n",
      "c:\\Users\\sison\\AppData\\Local\\Programs\\Python\\Python311\\Lib\\site-packages\\xgboost\\sklearn.py:885: UserWarning: `eval_metric` in `fit` method is deprecated for better compatibility with scikit-learn, use `eval_metric` in constructor or`set_params` instead.\n",
      "  warnings.warn(\n"
     ]
    }
   ],
   "source": [
    "from sklearn.model_selection import KFold\n",
    "\n",
    "# Initialize CV\n",
    "cv = KFold(n_splits=10, shuffle=True, random_state=1)\n",
    "\n",
    "# Set Hyperparameters\n",
    "params_gbm = {'eta': 0.2660984929457465,\n",
    "              'objective': 'multi:softmax',\n",
    "              'num_class': 4,\n",
    "              'max_depth': 10,\n",
    "              'subsample': 0.8197225669267219,\n",
    "              'colsample_bytree': 0.9893540865745749,\n",
    "              'gamma': 0.05040746966680979,\n",
    "              'min_child_weight': 5.3821851133593634,\n",
    "              'lambda': 0.9274786210352317,\n",
    "              'alpha': 3.6297170639237653,\n",
    "              'num_boost_round': 50000\n",
    "              }\n",
    "\n",
    "# Initialize the model\n",
    "xgb_classifier = XGBClassifier(params_gbm)\n",
    "\n",
    "# Train the Model\n",
    "eval_set = [(x_test, y_test)]\n",
    "\n",
    "xgb_classifier.fit(X_train, y_train, eval_metric=\"error\", verbose=True)\n",
    "y_pred = xgb_classifier.predict(X_test)"
   ]
  },
  {
   "cell_type": "markdown",
   "metadata": {},
   "source": [
    "#### Evaluation"
   ]
  },
  {
   "cell_type": "code",
   "execution_count": 7,
   "metadata": {},
   "outputs": [
    {
     "name": "stdout",
     "output_type": "stream",
     "text": [
      "              precision    recall  f1-score   support\n",
      "\n",
      "           0       0.89      0.97      0.93     85560\n",
      "           1       0.92      0.98      0.95     18804\n",
      "           2       0.84      0.60      0.70     27061\n",
      "           3       0.98      0.88      0.93      5412\n",
      "\n",
      "    accuracy                           0.89    136837\n",
      "   macro avg       0.91      0.86      0.88    136837\n",
      "weighted avg       0.89      0.89      0.89    136837\n",
      "\n"
     ]
    }
   ],
   "source": [
    "# Classification Report\n",
    "print(classification_report(y_test, y_pred))"
   ]
  },
  {
   "cell_type": "code",
   "execution_count": 8,
   "metadata": {},
   "outputs": [
    {
     "data": {
      "image/png": "[encoded data removed]",
      "text/plain": [
       "<Figure size 640x480 with 2 Axes>"
      ]
     },
     "metadata": {},
     "output_type": "display_data"
    }
   ],
   "source": [
    "# Confusion Matrix for 12 Features\n",
    "cm_up = confusion_matrix(y_test, y_pred, labels=xgb_classifier.classes_)\n",
    "disp = ConfusionMatrixDisplay(confusion_matrix = cm_up, display_labels = xgb_classifier.classes_)\n",
    "disp.plot()\n",
    "plt.show()"
   ]
  },
  {
   "cell_type": "code",
   "execution_count": 9,
   "metadata": {},
   "outputs": [
    {
     "data": {
      "text/plain": [
       "\"# Cross Validation Score\\nscores = cross_val_score(XGBClassifier(**params_gbm),\\n                        X_train, y_train, scoring='accuracy', cv=cv).mean()\\n\\nprint(scores)\""
      ]
     },
     "execution_count": 9,
     "metadata": {},
     "output_type": "execute_result"
    }
   ],
   "source": [
    "'''# Cross Validation Score\n",
    "scores = cross_val_score(XGBClassifier(**params_gbm),\n",
    "                        X_train, y_train, scoring='accuracy', cv=cv).mean()\n",
    "\n",
    "print(scores)'''"
   ]
  },
  {
   "cell_type": "code",
   "execution_count": 10,
   "metadata": {},
   "outputs": [
    {
     "data": {
      "text/plain": [
       "['xgb_filter.sav']"
      ]
     },
     "execution_count": 10,
     "metadata": {},
     "output_type": "execute_result"
    }
   ],
   "source": [
    "# Dumping the model\n",
    "joblib.dump(xgb_classifier, 'xgb_filter.sav')"
   ]
  },
  {
   "cell_type": "code",
   "execution_count": 15,
   "metadata": {},
   "outputs": [
    {
     "name": "stdout",
     "output_type": "stream",
     "text": [
      "Current URL: medium.com/\n",
      "------- 12 Features -------------\n",
      "Phishing\n",
      "0.015586800000164658\n"
     ]
    }
   ],
   "source": [
    "import lexical_generator_hybrid\n",
    "import time\n",
    "\n",
    "def xgb_predict_maliciousness(url):\n",
    "\n",
    "    numerical_values = lexical_generator_hybrid.lexical_generator(url)\n",
    "    # print(numerical_values)\n",
    "\n",
    "    match xgb_classifier.predict(numerical_values):\n",
    "        case 0:\n",
    "            return \"Benign\"\n",
    "        case 1:\n",
    "            return \"Malware\"\n",
    "        case 2:\n",
    "            return \"Phishing\"\n",
    "        case 3:\n",
    "            return \"Defacement\"\n",
    "\n",
    "url = \"medium.com/\"\n",
    "print(\"Current URL: \"+url)\n",
    "\n",
    "start = time.perf_counter()\n",
    "prediction = xgb_predict_maliciousness(url)\n",
    "end = time.perf_counter()\n",
    "print(\"------- 12 Features -------------\")\n",
    "print(prediction)\n",
    "print(end-start)"
   ]
  }
 ],
 "metadata": {
  "kernelspec": {
   "display_name": "Python 3",
   "language": "python",
   "name": "python3"
  },
  "language_info": {
   "codemirror_mode": {
    "name": "ipython",
    "version": 3
   },
   "file_extension": ".py",
   "mimetype": "text/x-python",
   "name": "python",
   "nbconvert_exporter": "python",
   "pygments_lexer": "ipython3",
   "version": "3.11.1"
  }
 },
 "nbformat": 4,
 "nbformat_minor": 2
}
