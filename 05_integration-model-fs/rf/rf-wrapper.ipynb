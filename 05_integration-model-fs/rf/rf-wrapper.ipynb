{
 "cells": [
  {
   "cell_type": "markdown",
   "metadata": {},
   "source": [
    "# RF Classifier with Wrapper-Based FS\n",
    "\n",
    "Steven Sison | March 9, 2024"
   ]
  },
  {
   "cell_type": "markdown",
   "metadata": {},
   "source": [
    "## Description"
   ]
  },
  {
   "cell_type": "markdown",
   "metadata": {},
   "source": [
    "This document will be used to train a model using the reduced feature set obtain by using the wrapper-based method, forward feature selection. The model will be evaluated in terms of the usual metrics (accuracy, precision, F1-score, recall) as well as the training time. The model will also be stored for future evaluation purposes."
   ]
  },
  {
   "cell_type": "markdown",
   "metadata": {},
   "source": [
    "## Training the Model"
   ]
  },
  {
   "cell_type": "markdown",
   "metadata": {},
   "source": [
    "### Preliminaries"
   ]
  },
  {
   "cell_type": "markdown",
   "metadata": {},
   "source": [
    "#### 1. Loading the Dataset"
   ]
  },
  {
   "cell_type": "code",
   "execution_count": 5,
   "metadata": {},
   "outputs": [
    {
     "name": "stdout",
     "output_type": "stream",
     "text": [
      "c:\\Users\\sison\\OneDrive - University of the Philippines\\04_Senior-Year_23-24\\02_Acad-Files\\01_EEE\\01_EEE-196_199\\00_Actual-Repo\\SecURL\\05_integration-model-fs\\rf\n"
     ]
    }
   ],
   "source": [
    "import pandas as pd                     # For data transformation\n",
    "import numpy as numpy                   # For scientific calculations\n",
    "import seaborn as sns                   # For data visualizations\n",
    "import matplotlib.pyplot as plt         # For plotting\n",
    "import plotly.graph_objects as go       # For plotting\n",
    "from sklearn.model_selection import train_test_split, cross_val_score, cross_val_predict\n",
    "from sklearn.metrics import accuracy_score, recall_score, precision_score, f1_score, classification_report\n",
    "from sklearn.metrics import confusion_matrix, classification_report, accuracy_score, ConfusionMatrixDisplay\n",
    "from sklearn.ensemble import RandomForestClassifier\n",
    "from sklearn.pipeline import Pipeline\n",
    "import time\n",
    "from datetime import datetime\n",
    "import joblib\n",
    "import os\n",
    "\n",
    "print(os.getcwd())\n",
    "\n",
    "dataset = pd.read_csv(\"../../02_feature-engineering/final-datasets/final_unbalanced_withLexical.csv\")      # Loading the dataset\n",
    "x_train, x_test, y_train, y_test = train_test_split(dataset.drop(columns=['url_type']), dataset['url_type'], test_size = 0.2, random_state=42)"
   ]
  },
  {
   "cell_type": "markdown",
   "metadata": {},
   "source": [
    "#### 2. Preprocessing (Balancing)"
   ]
  },
  {
   "cell_type": "markdown",
   "metadata": {},
   "source": []
  },
  {
   "cell_type": "code",
   "execution_count": 6,
   "metadata": {},
   "outputs": [
    {
     "data": {
      "text/plain": [
       "url_type\n",
       "0    428080\n",
       "2    134094\n",
       "1     95308\n",
       "3     26700\n",
       "Name: count, dtype: int64"
      ]
     },
     "execution_count": 6,
     "metadata": {},
     "output_type": "execute_result"
    }
   ],
   "source": [
    "dataset['url_type'].value_counts()"
   ]
  },
  {
   "cell_type": "code",
   "execution_count": 7,
   "metadata": {},
   "outputs": [],
   "source": [
    "# Upsampling\n",
    "\n",
    "from sklearn.utils import resample\n",
    "\n",
    "dataset_benign = dataset[(dataset['url_type'] == 0)]\n",
    "dataset_defacement = dataset[(dataset['url_type'] == 1)]\n",
    "dataset_phishing = dataset[(dataset['url_type'] == 2)]\n",
    "dataset_malware = dataset[(dataset['url_type'] == 3)]\n",
    "\n",
    "dataset_defacement_upsampled = resample(dataset_defacement,\n",
    "                                        replace=True,\n",
    "                                        n_samples = dataset_benign.shape[0],\n",
    "                                        random_state = 15)\n",
    "\n",
    "dataset_phishing_upsampled = resample(dataset_phishing,\n",
    "                                        replace=True,\n",
    "                                        n_samples = dataset_benign.shape[0],\n",
    "                                        random_state = 15)\n",
    "\n",
    "dataset_malware_upsampled = resample(dataset_malware,\n",
    "                                        replace=True,\n",
    "                                        n_samples = dataset_benign.shape[0],\n",
    "                                        random_state = 15)\n",
    "\n",
    "dataset_benign_upsampled = resample(dataset_benign,\n",
    "                                        replace=True,\n",
    "                                        n_samples = dataset_benign.shape[0],\n",
    "                                        random_state = 15)\n",
    "\n",
    "dataset_upsampled = pd.concat([dataset_benign_upsampled, dataset_defacement_upsampled, dataset_malware_upsampled, dataset_phishing_upsampled])\n",
    "\n",
    "# dataset_upsampled.info(0)\n",
    "dataset_upsampled['url_type'].value_counts()\n",
    "\n",
    "X_up_train, X_up_test, y_up_train, y_up_test = train_test_split(dataset_upsampled.drop(columns=['url_type']), dataset_upsampled['url_type'], test_size = 0.2, random_state=42)"
   ]
  },
  {
   "cell_type": "markdown",
   "metadata": {},
   "source": [
    "#### 3. Removing Unnecessary Features"
   ]
  },
  {
   "cell_type": "code",
   "execution_count": 8,
   "metadata": {},
   "outputs": [
    {
     "data": {
      "text/html": [
       "<div>\n",
       "<style scoped>\n",
       "    .dataframe tbody tr th:only-of-type {\n",
       "        vertical-align: middle;\n",
       "    }\n",
       "\n",
       "    .dataframe tbody tr th {\n",
       "        vertical-align: top;\n",
       "    }\n",
       "\n",
       "    .dataframe thead th {\n",
       "        text-align: right;\n",
       "    }\n",
       "</style>\n",
       "<table border=\"1\" class=\"dataframe\">\n",
       "  <thead>\n",
       "    <tr style=\"text-align: right;\">\n",
       "      <th></th>\n",
       "      <th>url_length</th>\n",
       "      <th>url_domain_entropy</th>\n",
       "      <th>url_is_digits_in_domain</th>\n",
       "      <th>url_number_of_parameters</th>\n",
       "      <th>url_number_of_digits</th>\n",
       "      <th>url_string_entropy</th>\n",
       "      <th>url_path_length</th>\n",
       "      <th>url_host_length</th>\n",
       "      <th>get_tld</th>\n",
       "      <th>url_domain_len</th>\n",
       "      <th>...</th>\n",
       "      <th>has_exe_in_string</th>\n",
       "      <th>has_viewerphp_in_string</th>\n",
       "      <th>has_getImageasp_in_string</th>\n",
       "      <th>has_paypal_in_string</th>\n",
       "      <th>has_dbsysphp_in_string</th>\n",
       "      <th>has_shopping_in_string</th>\n",
       "      <th>has_php_in_string</th>\n",
       "      <th>has_bin_in_string</th>\n",
       "      <th>has_personal_in_string</th>\n",
       "      <th>url_scheme</th>\n",
       "    </tr>\n",
       "  </thead>\n",
       "  <tbody>\n",
       "    <tr>\n",
       "      <th>14155</th>\n",
       "      <td>19</td>\n",
       "      <td>2.584963</td>\n",
       "      <td>0</td>\n",
       "      <td>0</td>\n",
       "      <td>0</td>\n",
       "      <td>3.642150</td>\n",
       "      <td>19</td>\n",
       "      <td>0</td>\n",
       "      <td>0</td>\n",
       "      <td>6</td>\n",
       "      <td>...</td>\n",
       "      <td>0</td>\n",
       "      <td>0</td>\n",
       "      <td>0</td>\n",
       "      <td>0</td>\n",
       "      <td>0</td>\n",
       "      <td>0</td>\n",
       "      <td>0</td>\n",
       "      <td>0</td>\n",
       "      <td>0</td>\n",
       "      <td>0</td>\n",
       "    </tr>\n",
       "    <tr>\n",
       "      <th>617208</th>\n",
       "      <td>26</td>\n",
       "      <td>2.321928</td>\n",
       "      <td>0</td>\n",
       "      <td>0</td>\n",
       "      <td>0</td>\n",
       "      <td>3.767183</td>\n",
       "      <td>26</td>\n",
       "      <td>0</td>\n",
       "      <td>0</td>\n",
       "      <td>5</td>\n",
       "      <td>...</td>\n",
       "      <td>0</td>\n",
       "      <td>0</td>\n",
       "      <td>0</td>\n",
       "      <td>0</td>\n",
       "      <td>0</td>\n",
       "      <td>0</td>\n",
       "      <td>0</td>\n",
       "      <td>0</td>\n",
       "      <td>0</td>\n",
       "      <td>0</td>\n",
       "    </tr>\n",
       "    <tr>\n",
       "      <th>43783</th>\n",
       "      <td>25</td>\n",
       "      <td>1.500000</td>\n",
       "      <td>0</td>\n",
       "      <td>0</td>\n",
       "      <td>0</td>\n",
       "      <td>3.763856</td>\n",
       "      <td>25</td>\n",
       "      <td>0</td>\n",
       "      <td>0</td>\n",
       "      <td>4</td>\n",
       "      <td>...</td>\n",
       "      <td>0</td>\n",
       "      <td>0</td>\n",
       "      <td>0</td>\n",
       "      <td>0</td>\n",
       "      <td>0</td>\n",
       "      <td>0</td>\n",
       "      <td>0</td>\n",
       "      <td>0</td>\n",
       "      <td>0</td>\n",
       "      <td>0</td>\n",
       "    </tr>\n",
       "    <tr>\n",
       "      <th>543456</th>\n",
       "      <td>52</td>\n",
       "      <td>3.762267</td>\n",
       "      <td>0</td>\n",
       "      <td>0</td>\n",
       "      <td>6</td>\n",
       "      <td>4.190260</td>\n",
       "      <td>18</td>\n",
       "      <td>27</td>\n",
       "      <td>320</td>\n",
       "      <td>23</td>\n",
       "      <td>...</td>\n",
       "      <td>0</td>\n",
       "      <td>0</td>\n",
       "      <td>0</td>\n",
       "      <td>0</td>\n",
       "      <td>0</td>\n",
       "      <td>0</td>\n",
       "      <td>0</td>\n",
       "      <td>0</td>\n",
       "      <td>0</td>\n",
       "      <td>27</td>\n",
       "    </tr>\n",
       "    <tr>\n",
       "      <th>527953</th>\n",
       "      <td>70</td>\n",
       "      <td>2.521641</td>\n",
       "      <td>0</td>\n",
       "      <td>0</td>\n",
       "      <td>10</td>\n",
       "      <td>4.459371</td>\n",
       "      <td>49</td>\n",
       "      <td>14</td>\n",
       "      <td>276</td>\n",
       "      <td>7</td>\n",
       "      <td>...</td>\n",
       "      <td>0</td>\n",
       "      <td>0</td>\n",
       "      <td>0</td>\n",
       "      <td>0</td>\n",
       "      <td>0</td>\n",
       "      <td>0</td>\n",
       "      <td>0</td>\n",
       "      <td>0</td>\n",
       "      <td>0</td>\n",
       "      <td>27</td>\n",
       "    </tr>\n",
       "  </tbody>\n",
       "</table>\n",
       "<p>5 rows × 34 columns</p>\n",
       "</div>"
      ],
      "text/plain": [
       "        url_length  url_domain_entropy  url_is_digits_in_domain  \\\n",
       "14155           19            2.584963                        0   \n",
       "617208          26            2.321928                        0   \n",
       "43783           25            1.500000                        0   \n",
       "543456          52            3.762267                        0   \n",
       "527953          70            2.521641                        0   \n",
       "\n",
       "        url_number_of_parameters  url_number_of_digits  url_string_entropy  \\\n",
       "14155                          0                     0            3.642150   \n",
       "617208                         0                     0            3.767183   \n",
       "43783                          0                     0            3.763856   \n",
       "543456                         0                     6            4.190260   \n",
       "527953                         0                    10            4.459371   \n",
       "\n",
       "        url_path_length  url_host_length  get_tld  url_domain_len  ...  \\\n",
       "14155                19                0        0               6  ...   \n",
       "617208               26                0        0               5  ...   \n",
       "43783                25                0        0               4  ...   \n",
       "543456               18               27      320              23  ...   \n",
       "527953               49               14      276               7  ...   \n",
       "\n",
       "        has_exe_in_string  has_viewerphp_in_string  has_getImageasp_in_string  \\\n",
       "14155                   0                        0                          0   \n",
       "617208                  0                        0                          0   \n",
       "43783                   0                        0                          0   \n",
       "543456                  0                        0                          0   \n",
       "527953                  0                        0                          0   \n",
       "\n",
       "        has_paypal_in_string  has_dbsysphp_in_string  has_shopping_in_string  \\\n",
       "14155                      0                       0                       0   \n",
       "617208                     0                       0                       0   \n",
       "43783                      0                       0                       0   \n",
       "543456                     0                       0                       0   \n",
       "527953                     0                       0                       0   \n",
       "\n",
       "        has_php_in_string  has_bin_in_string  has_personal_in_string  \\\n",
       "14155                   0                  0                       0   \n",
       "617208                  0                  0                       0   \n",
       "43783                   0                  0                       0   \n",
       "543456                  0                  0                       0   \n",
       "527953                  0                  0                       0   \n",
       "\n",
       "        url_scheme  \n",
       "14155            0  \n",
       "617208           0  \n",
       "43783            0  \n",
       "543456          27  \n",
       "527953          27  \n",
       "\n",
       "[5 rows x 34 columns]"
      ]
     },
     "execution_count": 8,
     "metadata": {},
     "output_type": "execute_result"
    }
   ],
   "source": [
    "important_features_wrapper_12 = ['url_domain_entropy', 'url_number_of_digits', 'url_path_length', 'url_host_length', 'get_tld', 'url_num_subdomain', 'url_number_of_letters', 'url_num_periods', 'url_num_forward_slash', 'has_login_in_string', 'has_php_in_string', 'url_scheme']\n",
    "important_features_wrapper_33 = ['url_length',\n",
    " 'url_domain_entropy',\n",
    " 'url_is_digits_in_domain',\n",
    " 'url_number_of_parameters',\n",
    " 'url_number_of_digits',\n",
    " 'url_string_entropy',\n",
    " 'url_path_length',\n",
    " 'url_host_length',\n",
    " 'get_tld',\n",
    " 'url_domain_len',\n",
    " 'url_num_subdomain',\n",
    " 'url_number_of_fragments',\n",
    " 'url_is_encoded',\n",
    " 'url_number_of_letters',\n",
    " 'url_num_periods',\n",
    " 'url_num_of_hyphens',\n",
    " 'url_num_underscore',\n",
    " 'url_num_forward_slash',\n",
    " 'url_num_semicolon',\n",
    " 'url_num_mod_sign',\n",
    " 'has_login_in_string',\n",
    " 'has_signin_in_string',\n",
    " 'has_logon_in_string',\n",
    " 'has_loginasp_in_string',\n",
    " 'has_exe_in_string',\n",
    " 'has_viewerphp_in_string',\n",
    " 'has_getImageasp_in_string',\n",
    " 'has_paypal_in_string',\n",
    " 'has_dbsysphp_in_string',\n",
    " 'has_shopping_in_string',\n",
    " 'has_php_in_string',\n",
    " 'has_bin_in_string',\n",
    " 'has_personal_in_string',\n",
    " 'url_scheme']\n",
    "\n",
    "X_up_test_12 = X_up_test[important_features_wrapper_12]\n",
    "X_up_train_12 = X_up_train[important_features_wrapper_12]\n",
    "\n",
    "X_up_test_33 = X_up_test[important_features_wrapper_33]\n",
    "X_up_train_33 = X_up_train[important_features_wrapper_33]\n",
    "\n",
    "X_up_test_33.head()"
   ]
  },
  {
   "cell_type": "markdown",
   "metadata": {},
   "source": [
    "#### Model Training"
   ]
  },
  {
   "cell_type": "code",
   "execution_count": 9,
   "metadata": {},
   "outputs": [],
   "source": [
    "from sklearn.model_selection import KFold\n",
    "\n",
    "# Initialize CV\n",
    "cv = KFold(n_splits=10, shuffle=True, random_state=1)\n",
    "\n",
    "# Set Hyperparameters\n",
    "params_gbm = {}\n",
    "params_gbm['max_depth'] = round(20)\n",
    "params_gbm['min_samples_leaf'] = 1\n",
    "params_gbm['min_samples_split'] = round(100)\n",
    "params_gbm['n_estimators'] = round(720.4)\n",
    "\n",
    "# Initialize the model\n",
    "xgb_classifier_12 = Pipeline([\n",
    "    ('classifier', RandomForestClassifier(random_state=123, **params_gbm))\n",
    "])\n",
    "xgb_classifier_33 = Pipeline([\n",
    "    ('classifier', RandomForestClassifier(random_state=123, **params_gbm))\n",
    "])\n",
    "\n",
    "# Train the Model\n",
    "xgb_classifier_12.fit(X_up_train_12, y_up_train)\n",
    "y_up_pred_12 = xgb_classifier_12.predict(X_up_test_12)\n",
    "\n",
    "xgb_classifier_33.fit(X_up_train_33, y_up_train)\n",
    "y_up_pred_33 = xgb_classifier_33.predict(X_up_test_33)"
   ]
  },
  {
   "cell_type": "markdown",
   "metadata": {},
   "source": [
    "#### Evaluation"
   ]
  },
  {
   "cell_type": "code",
   "execution_count": 10,
   "metadata": {},
   "outputs": [
    {
     "name": "stdout",
     "output_type": "stream",
     "text": [
      "              precision    recall  f1-score   support\n",
      "\n",
      "           0       0.93      0.95      0.94     85144\n",
      "           1       0.95      1.00      0.97     85582\n",
      "           2       0.91      0.90      0.90     85715\n",
      "           3       0.99      0.94      0.97     86023\n",
      "\n",
      "    accuracy                           0.94    342464\n",
      "   macro avg       0.95      0.94      0.94    342464\n",
      "weighted avg       0.95      0.94      0.94    342464\n",
      "\n",
      "              precision    recall  f1-score   support\n",
      "\n",
      "           0       0.93      0.95      0.94     85144\n",
      "           1       0.95      1.00      0.97     85582\n",
      "           2       0.91      0.90      0.90     85715\n",
      "           3       1.00      0.95      0.97     86023\n",
      "\n",
      "    accuracy                           0.95    342464\n",
      "   macro avg       0.95      0.95      0.95    342464\n",
      "weighted avg       0.95      0.95      0.95    342464\n",
      "\n"
     ]
    }
   ],
   "source": [
    "# Classification Report\n",
    "print(classification_report(y_up_test, y_up_pred_12))\n",
    "print(classification_report(y_up_test, y_up_pred_33))"
   ]
  },
  {
   "cell_type": "code",
   "execution_count": 11,
   "metadata": {},
   "outputs": [
    {
     "data": {
      "image/png": "[encoded data removed]",
      "text/plain": [
       "<Figure size 640x480 with 2 Axes>"
      ]
     },
     "metadata": {},
     "output_type": "display_data"
    }
   ],
   "source": [
    "# Confusion Matrix for 12 Features\n",
    "cm_up = confusion_matrix(y_up_test, y_up_pred_12, labels=xgb_classifier_12.classes_)\n",
    "disp = ConfusionMatrixDisplay(confusion_matrix = cm_up, display_labels = xgb_classifier_12.classes_)\n",
    "disp.plot()\n",
    "plt.show()"
   ]
  },
  {
   "cell_type": "code",
   "execution_count": 8,
   "metadata": {},
   "outputs": [
    {
     "name": "stdout",
     "output_type": "stream",
     "text": [
      "0.9317767699682437\n"
     ]
    }
   ],
   "source": [
    "# Cross Validation Score\n",
    "scores = cross_val_score(XGBClassifier(random_state=45, **params_gbm),\n",
    "                        X_up_train, y_up_train, scoring='accuracy', cv=cv).mean()\n",
    "\n",
    "print(scores)"
   ]
  },
  {
   "cell_type": "code",
   "execution_count": 12,
   "metadata": {},
   "outputs": [
    {
     "data": {
      "text/plain": [
       "['rf_ffs_33.sav']"
      ]
     },
     "execution_count": 12,
     "metadata": {},
     "output_type": "execute_result"
    }
   ],
   "source": [
    "# Dumping the model\n",
    "joblib.dump(xgb_classifier_12, 'rf_ffs_12.sav')\n",
    "joblib.dump(xgb_classifier_33, 'rf_ffs_33.sav')"
   ]
  },
  {
   "cell_type": "code",
   "execution_count": 10,
   "metadata": {},
   "outputs": [
    {
     "name": "stdout",
     "output_type": "stream",
     "text": [
      "c:\\Users\\sison\\OneDrive - University of the Philippines\\04_Senior-Year_23-24\\02_Acad-Files\\01_EEE\\01_EEE-196_199\\00_Actual-Repo\\SecURL\\05_integration-model-fs\\xgb\n"
     ]
    }
   ],
   "source": [
    "print(os.getcwd())"
   ]
  },
  {
   "cell_type": "code",
   "execution_count": 15,
   "metadata": {},
   "outputs": [
    {
     "name": "stdout",
     "output_type": "stream",
     "text": [
      "Current URL: facebook.com\n",
      "------- 12 Features -------------\n",
      "Phishing\n",
      "0.18042889999924228\n",
      "------- 33 Features -------------\n",
      "Phishing\n",
      "0.11801500001456589\n"
     ]
    }
   ],
   "source": [
    "import lexical_generator_12\n",
    "import lexical_generator_33\n",
    "import time\n",
    "\n",
    "def xgb_predict_maliciousness_12(url):\n",
    "\n",
    "    numerical_values = lexical_generator_12.lexical_generator(url)\n",
    "\n",
    "    match xgb_classifier_12.predict(numerical_values):\n",
    "        case 0:\n",
    "            return \"Benign\"\n",
    "        case 1:\n",
    "            return \"Defacement\"\n",
    "        case 2:\n",
    "            return \"Phishing\"\n",
    "        case 3:\n",
    "            return \"Malware\"\n",
    "        \n",
    "def xgb_predict_maliciousness_33(url):\n",
    "\n",
    "    numerical_values = lexical_generator_33.lexical_generator(url)\n",
    "\n",
    "    numerical_values.head()\n",
    "\n",
    "    match xgb_classifier_33.predict(numerical_values):\n",
    "        case 0:\n",
    "            return \"Benign\"\n",
    "        case 1:\n",
    "            return \"Defacement\"\n",
    "        case 2:\n",
    "            return \"Phishing\"\n",
    "        case 3:\n",
    "            return \"Malware\"\n",
    "\n",
    "url = \"facebook.com\"\n",
    "print(\"Current URL: \"+url)\n",
    "\n",
    "start = time.perf_counter()\n",
    "prediction = xgb_predict_maliciousness_12(url)\n",
    "end = time.perf_counter()\n",
    "print(\"------- 12 Features -------------\")\n",
    "print(prediction)\n",
    "print(end-start)\n",
    "\n",
    "start = time.perf_counter()\n",
    "prediction = xgb_predict_maliciousness_33(url)\n",
    "end = time.perf_counter()\n",
    "print(\"------- 33 Features -------------\")\n",
    "print(prediction)\n",
    "print(end-start)"
   ]
  }
 ],
 "metadata": {
  "kernelspec": {
   "display_name": "Python 3",
   "language": "python",
   "name": "python3"
  },
  "language_info": {
   "codemirror_mode": {
    "name": "ipython",
    "version": 3
   },
   "file_extension": ".py",
   "mimetype": "text/x-python",
   "name": "python",
   "nbconvert_exporter": "python",
   "pygments_lexer": "ipython3",
   "version": "3.11.1"
  }
 },
 "nbformat": 4,
 "nbformat_minor": 2
}
