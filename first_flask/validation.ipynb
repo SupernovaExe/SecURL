{
 "cells": [
  {
   "cell_type": "code",
   "execution_count": 1,
   "metadata": {},
   "outputs": [
    {
     "name": "stderr",
     "output_type": "stream",
     "text": [
      "c:\\Users\\sison\\AppData\\Local\\Programs\\Python\\Python311\\Lib\\site-packages\\tqdm\\auto.py:21: TqdmWarning: IProgress not found. Please update jupyter and ipywidgets. See https://ipywidgets.readthedocs.io/en/stable/user_install.html\n",
      "  from .autonotebook import tqdm as notebook_tqdm\n"
     ]
    }
   ],
   "source": [
    "import flask\n",
    "from flask import request, jsonify\n",
    "from random import randint\n",
    "from model_predictor import predict_maliciousness_lexical, predict_maliciousness_content\n",
    "from time import time\n",
    "import threading\n",
    "import time\n",
    "import feature_generator\n",
    "from whitelist_checker import is_dom_top\n",
    "import pandas as pd                     # For data transformation\n",
    "import numpy as numpy                   # For scientific calculations\n",
    "from sklearn.model_selection import train_test_split, cross_val_score, cross_val_predict\n",
    "from sklearn.metrics import accuracy_score, recall_score, precision_score, f1_score, classification_report\n",
    "from sklearn.metrics import confusion_matrix, classification_report, accuracy_score, ConfusionMatrixDisplay\n",
    "from xgboost import XGBClassifier, DMatrix, train\n",
    "from sklearn.pipeline import Pipeline\n",
    "from datetime import datetime\n",
    "import joblib\n",
    "import os\n",
    "import optuna\n",
    "from sklearn.metrics import mean_squared_error # or any other metric\n",
    "from sklearn.model_selection import train_test_split\n",
    "import machine_learning\n",
    "import database_operations\n",
    "import feature_engineering"
   ]
  },
  {
   "cell_type": "code",
   "execution_count": 2,
   "metadata": {},
   "outputs": [],
   "source": [
    "valid = pd.read_csv(\"../02_feature-engineering/final-datasets/validation_no_features.csv\")\n",
    "valid.head()\n",
    "\n",
    "y_valid = valid['Type']\n",
    "X_urls = valid.drop(columns=['Type'])"
   ]
  },
  {
   "cell_type": "code",
   "execution_count": 3,
   "metadata": {},
   "outputs": [
    {
     "name": "stdout",
     "output_type": "stream",
     "text": [
      "['https://www.google.com', 'https://www.youtube.com', 'https://www.facebook.com', 'https://www.amazon.com', 'https://www.wikipedia.org', 'https://www.twitter.com', 'https://www.instagram.com', 'https://www.linkedin.com', 'https://www.reddit.com', 'https://www.netflix.com', 'https://www.microsoft.com', 'https://www.apple.com', 'https://www.pinterest.com', 'https://www.tumblr.com', 'https://www.ebay.com', 'https://www.bing.com', 'https://www.cnn.com', 'https://www.bbc.com', 'https://www.yahoo.com', 'https://www.nytimes.com', 'https://www.weather.com', 'https://www.quora.com', 'https://www.stackoverflow.com', 'https://www.github.com', 'https://www.medium.com', 'https://www.spotify.com', 'https://www.dropbox.com', 'https://www.paypal.com', 'https://www.salesforce.com', 'https://www.airbnb.com', 'https://www.adobe.com', 'https://www.udemy.com', 'https://www.coursera.org', 'https://www.khanacademy.org', 'https://www.walmart.com', 'https://www.homedepot.com', 'https://www.target.com', 'https://www.bestbuy.com', 'https://www.costco.com', 'https://www.ikea.com', 'https://www.nike.com', 'https://www.adidas.com', 'https://www.zara.com', 'https://www.hm.com', 'https://www.macys.com', 'https://www.nordstrom.com', 'https://www.sephora.com', 'https://www.ulta.com', 'https://www.expedia.com', 'https://www.tripadvisor.com', 'https://www.booking.com', 'https://www.priceline.com', 'https://www.kayak.com', 'https://www.hotels.com', 'https://www.skyscanner.net', 'https://www.uber.com', 'https://www.lyft.com', 'https://www.doordash.com', 'https://www.grubhub.com', 'https://www.postmates.com', 'https://www.instacart.com', 'https://www.washingtonpost.com', 'https://www.theguardian.com', 'https://www.forbes.com', 'https://www.bloomberg.com', 'https://www.wsj.com', 'https://www.ft.com', 'https://www.economist.com', 'https://www.reuters.com', 'https://www.nationalgeographic.com', 'https://www.sciencemag.org', 'https://www.nature.com', 'http://air.bnb-id8103.com/', 'http://malicious-example2.com', 'http://www.homeschoollatinoamerica.com/mr24/', 'https://dgamp.ci/app/Http/Controllers/cvs/SILENTCODERSLIMAHURUF/Z2VyYWxkLmRveWxlQG5hdnkubWls', 'http://dhocs-haze-a290.nuiblalrlewln.workers.dev/', 'http://805b4559c4b0eb39086f57ea7cd2565b23052cd656c8e214457cb4256a.pages.dev/', 'https://gramxxxtele.vercel.app/', 'http://8bc4d613.pagesprocessing.pages.dev/', 'https://pub-af56fe61ca864658a18b9bce60bcbc6f.r2.dev/zaaa.html', 'https://pub-af56fe61ca864658a18b9bce60bcbc6f.r2.dev/zaaa.html', 'https://metamasksnu.azurewebsites.net/', 'http://5fgfggfgfg4g4h4.blogspot.com.eg/', 'https://violation-team.vercel.app/index.html/', 'https://dgamp.ci/app/Http/Controllers/cvs/SILENTCODERSLIMAHURUF/aGFycmlzb25zQGhzbi5uZXQ=', 'http://ff.member.garerna.vn/vlisomg8beeitj3b4ssuo3g4qhi0lxsgorcfppgpbsn1sjnofandpd1tp6ashunkanqngbwmvdtacxovofx1l187mknipt17pbl3_index', 'https://bitly.cx/m58', 'https://artsbrainmees.pages.dev/f-b', 'https://palkersr-yojekr123.duckdns.org/', 'https://perihalanehterjaditerus.github.io/secutucerutcurut/reviews-fhotos/', 'https://submite-8nrl.vercel.app/', 'http://memberships.garenna.id.vn/memberships.garenna.id.vn/memberships.garenna.id.vn/css/tunnel.tomcat.5.jsp', 'http://7ae73c43.securitypages.pages.dev/', 'http://4f1d8914.managaespcommunity.pages.dev/', 'http://d0302.pages.dev/', 'http://help-center-for-business-appeal-case-id-332123.vercel.app/appeal_case_id']\n"
     ]
    }
   ],
   "source": [
    "url_list = X_urls['URL'].tolist()\n",
    "print(url_list)"
   ]
  },
  {
   "cell_type": "code",
   "execution_count": 4,
   "metadata": {},
   "outputs": [
    {
     "data": {
      "text/plain": [
       "0    0\n",
       "1    0\n",
       "2    0\n",
       "3    0\n",
       "4    0\n",
       "Name: Type, dtype: int64"
      ]
     },
     "execution_count": 4,
     "metadata": {},
     "output_type": "execute_result"
    }
   ],
   "source": [
    "y_valid.head()"
   ]
  },
  {
   "cell_type": "code",
   "execution_count": 5,
   "metadata": {},
   "outputs": [],
   "source": [
    "important_features_wrapper_lexical = ['url_length',\n",
    " 'url_domain_entropy',\n",
    " 'url_is_digits_in_domain',\n",
    " 'url_number_of_parameters',\n",
    " 'url_number_of_digits',\n",
    " 'url_string_entropy',\n",
    " 'url_path_length',\n",
    " 'url_host_length',\n",
    " 'url_domain_len',\n",
    " 'url_num_subdomain',\n",
    " 'url_number_of_fragments',\n",
    " 'url_is_encoded',\n",
    " 'url_number_of_letters',\n",
    " 'url_num_periods',\n",
    " 'url_num_of_hyphens',\n",
    " 'url_num_underscore',\n",
    " 'url_num_forward_slash',\n",
    " 'url_num_semicolon',\n",
    " 'url_num_mod_sign',\n",
    " 'has_login_in_string',\n",
    " 'has_signin_in_string',\n",
    " 'has_logon_in_string',\n",
    " 'has_loginasp_in_string',\n",
    " 'has_exe_in_string',\n",
    " 'has_viewerphp_in_string',\n",
    " 'has_getImageasp_in_string',\n",
    " 'has_paypal_in_string',\n",
    " 'has_dbsysphp_in_string',\n",
    " 'has_shopping_in_string',\n",
    " 'has_php_in_string',\n",
    " 'has_bin_in_string',\n",
    " 'has_personal_in_string'\n",
    " ]\n",
    "\n",
    "important_features_wrapper = ['blank_lines_count', \n",
    "                        'word_count', \n",
    "                        'js_count', \n",
    "                        'js_find_count', \n",
    "                        'js_link_count', \n",
    "                        'js_winopen_count', \n",
    "                        'title_tag_presence', \n",
    "                        'meta_tag_count', \n",
    "                        'anchor_tag_count', \n",
    "                        'applet_tag_count', \n",
    "                        'input_tag_count', \n",
    "                        'has_free_in_html', \n",
    "                        'has_access_in_html', \n",
    "                        'url_length', \n",
    "                        'url_ip_in_domain', \n",
    "                        'url_domain_entropy', \n",
    "                        'url_is_digits_in_domain', \n",
    "                        'url_number_of_digits', \n",
    "                        'url_string_entropy', \n",
    "                        'url_path_length', \n",
    "                        'url_host_length', \n",
    "                        'url_number_of_subdirectories', \n",
    "                        'url_num_subdomain', \n",
    "                        'url_has_port', \n",
    "                        'url_number_of_fragments', \n",
    "                        'url_num_periods', \n",
    "                        'url_num_equal', \n",
    "                        'url_num_open_parenthesis', \n",
    "                        'url_num_close_parenthesis', \n",
    "                        'url_num_ampersand', \n",
    "                        'url_num_at', \n",
    "                        'has_account_in_string', \n",
    "                        'has_webscr_in_string', \n",
    "                        'has_ebayisapi_in_string', \n",
    "                        'has_signin_in_string', \n",
    "                        'has_banking_in_string', \n",
    "                        'has_confirm_in_string', \n",
    "                        'has_logon_in_string', \n",
    "                        'has_signon_in_string', \n",
    "                        'has_loginasp_in_string', \n",
    "                        'has_loginphp_in_string', \n",
    "                        'has_exe_in_string', \n",
    "                        'has_zip_in_string', \n",
    "                        'has_rar_in_string', \n",
    "                        'has_jpg_in_string', \n",
    "                        'has_gif_in_string', \n",
    "                        'has_viewerphp_in_string', \n",
    "                        'has_getImageasp_in_string', \n",
    "                        'has_plugins_in_string', \n",
    "                        'has_paypal_in_string', \n",
    "                        'has_dbsysphp_in_string', \n",
    "                        'has_configbin_in_string', \n",
    "                        'has_downloadphp_in_string', \n",
    "                        'has_payment_in_string', \n",
    "                        'has_files_in_string', \n",
    "                        'has_shopping_in_string', \n",
    "                        'has_mailphp_in_string', \n",
    "                        'has_jar_in_string', \n",
    "                        'has_swf_in_string', \n",
    "                        'has_cgi_in_string', \n",
    "                        'has_php_in_string', \n",
    "                        'has_abuse_in_string', \n",
    "                        'has_bin_in_string', \n",
    "                        'has_update_in_string', \n",
    "                        'has_verification_in_string']"
   ]
  },
  {
   "cell_type": "code",
   "execution_count": 28,
   "metadata": {},
   "outputs": [],
   "source": [
    "pipeline = joblib.load(\"model/xgb_wrapper_65_lexical-content.sav\")"
   ]
  },
  {
   "cell_type": "code",
   "execution_count": 35,
   "metadata": {},
   "outputs": [
    {
     "name": "stderr",
     "output_type": "stream",
     "text": [
      "c:\\Users\\sison\\OneDrive - University of the Philippines\\04_Senior-Year_23-24\\02_Acad-Files\\01_EEE\\01_EEE-196_199\\00_Actual-Repo\\SecURL\\first_flask\\feature_generation_content_function_htmlin.py:66: MarkupResemblesLocatorWarning: The input looks more like a filename than markup. You may want to open this file and pass the filehandle into Beautiful Soup.\n",
      "  soup = BeautifulSoup(html, features = 'html.parser')\n",
      "c:\\Users\\sison\\OneDrive - University of the Philippines\\04_Senior-Year_23-24\\02_Acad-Files\\01_EEE\\01_EEE-196_199\\00_Actual-Repo\\SecURL\\first_flask\\feature_generation_content_function_htmlin.py:149: MarkupResemblesLocatorWarning: The input looks more like a filename than markup. You may want to open this file and pass the filehandle into Beautiful Soup.\n",
      "  soup = BeautifulSoup(html, features = 'html.parser')\n",
      "c:\\Users\\sison\\OneDrive - University of the Philippines\\04_Senior-Year_23-24\\02_Acad-Files\\01_EEE\\01_EEE-196_199\\00_Actual-Repo\\SecURL\\first_flask\\feature_generation_content_function_htmlin.py:215: MarkupResemblesLocatorWarning: The input looks more like a filename than markup. You may want to open this file and pass the filehandle into Beautiful Soup.\n",
      "  soup = BeautifulSoup(html, features = 'html.parser')\n",
      "c:\\Users\\sison\\OneDrive - University of the Philippines\\04_Senior-Year_23-24\\02_Acad-Files\\01_EEE\\01_EEE-196_199\\00_Actual-Repo\\SecURL\\first_flask\\feature_generation_content_function_htmlin.py:257: MarkupResemblesLocatorWarning: The input looks more like a filename than markup. You may want to open this file and pass the filehandle into Beautiful Soup.\n",
      "  soup = BeautifulSoup(html, features = 'html.parser')\n",
      "c:\\Users\\sison\\OneDrive - University of the Philippines\\04_Senior-Year_23-24\\02_Acad-Files\\01_EEE\\01_EEE-196_199\\00_Actual-Repo\\SecURL\\first_flask\\feature_generation_content_function_htmlin.py:271: MarkupResemblesLocatorWarning: The input looks more like a filename than markup. You may want to open this file and pass the filehandle into Beautiful Soup.\n",
      "  soup = BeautifulSoup(html, features = 'html.parser')\n",
      "c:\\Users\\sison\\OneDrive - University of the Philippines\\04_Senior-Year_23-24\\02_Acad-Files\\01_EEE\\01_EEE-196_199\\00_Actual-Repo\\SecURL\\first_flask\\feature_generation_content_function_htmlin.py:288: MarkupResemblesLocatorWarning: The input looks more like a filename than markup. You may want to open this file and pass the filehandle into Beautiful Soup.\n",
      "  soup = BeautifulSoup(html, features = 'html.parser')\n",
      "c:\\Users\\sison\\OneDrive - University of the Philippines\\04_Senior-Year_23-24\\02_Acad-Files\\01_EEE\\01_EEE-196_199\\00_Actual-Repo\\SecURL\\first_flask\\feature_generation_content_function_htmlin.py:331: MarkupResemblesLocatorWarning: The input looks more like a filename than markup. You may want to open this file and pass the filehandle into Beautiful Soup.\n",
      "  soup = BeautifulSoup(html, features = 'html.parser')\n",
      "c:\\Users\\sison\\OneDrive - University of the Philippines\\04_Senior-Year_23-24\\02_Acad-Files\\01_EEE\\01_EEE-196_199\\00_Actual-Repo\\SecURL\\first_flask\\feature_generation_content_function_htmlin.py:363: MarkupResemblesLocatorWarning: The input looks more like a filename than markup. You may want to open this file and pass the filehandle into Beautiful Soup.\n",
      "  soup = BeautifulSoup(html, features = 'html.parser')\n",
      "c:\\Users\\sison\\OneDrive - University of the Philippines\\04_Senior-Year_23-24\\02_Acad-Files\\01_EEE\\01_EEE-196_199\\00_Actual-Repo\\SecURL\\first_flask\\feature_generation_content_function_htmlin.py:371: MarkupResemblesLocatorWarning: The input looks more like a filename than markup. You may want to open this file and pass the filehandle into Beautiful Soup.\n",
      "  soup = BeautifulSoup(html, features = 'html.parser')\n",
      "c:\\Users\\sison\\OneDrive - University of the Philippines\\04_Senior-Year_23-24\\02_Acad-Files\\01_EEE\\01_EEE-196_199\\00_Actual-Repo\\SecURL\\first_flask\\feature_generation_content_function_htmlin.py:379: MarkupResemblesLocatorWarning: The input looks more like a filename than markup. You may want to open this file and pass the filehandle into Beautiful Soup.\n",
      "  soup = BeautifulSoup(html, features = 'html.parser')\n",
      "c:\\Users\\sison\\OneDrive - University of the Philippines\\04_Senior-Year_23-24\\02_Acad-Files\\01_EEE\\01_EEE-196_199\\00_Actual-Repo\\SecURL\\first_flask\\feature_generation_content_function_htmlin.py:66: MarkupResemblesLocatorWarning: The input looks more like a filename than markup. You may want to open this file and pass the filehandle into Beautiful Soup.\n",
      "  soup = BeautifulSoup(html, features = 'html.parser')\n",
      "c:\\Users\\sison\\OneDrive - University of the Philippines\\04_Senior-Year_23-24\\02_Acad-Files\\01_EEE\\01_EEE-196_199\\00_Actual-Repo\\SecURL\\first_flask\\feature_generation_content_function_htmlin.py:66: MarkupResemblesLocatorWarning: The input looks more like a filename than markup. You may want to open this file and pass the filehandle into Beautiful Soup.\n",
      "  soup = BeautifulSoup(html, features = 'html.parser')\n"
     ]
    }
   ],
   "source": [
    "y_pred = []\n",
    "\n",
    "for i in range(1):\n",
    "    try:\n",
    "        \n",
    "        # inp_url = url.replace(\"https://\",\"\",1)\n",
    "        # inp_url = url.replace(\"http://\",\"\",1)\n",
    "        \n",
    "        url_features_pandas = feature_generator.content_generator(important_features_wrapper, \"www.facebook.com/\")\n",
    "        url_features = DMatrix(url_features_pandas)\n",
    "\n",
    "        prediction = pipeline.predict(url_features)\n",
    "\n",
    "        y_pred.append(prediction)\n",
    "    except:\n",
    "        y_pred.append(1)"
   ]
  },
  {
   "cell_type": "code",
   "execution_count": 36,
   "metadata": {},
   "outputs": [
    {
     "name": "stdout",
     "output_type": "stream",
     "text": [
      "[array([0.], dtype=float32)]\n"
     ]
    }
   ],
   "source": [
    "print(y_pred)"
   ]
  },
  {
   "cell_type": "code",
   "execution_count": 12,
   "metadata": {},
   "outputs": [
    {
     "ename": "ValueError",
     "evalue": "Classification metrics can't handle a mix of binary and unknown targets",
     "output_type": "error",
     "traceback": [
      "\u001b[1;31m---------------------------------------------------------------------------\u001b[0m",
      "\u001b[1;31mValueError\u001b[0m                                Traceback (most recent call last)",
      "Cell \u001b[1;32mIn[12], line 1\u001b[0m\n\u001b[1;32m----> 1\u001b[0m \u001b[38;5;28mprint\u001b[39m(\u001b[43mclassification_report\u001b[49m\u001b[43m(\u001b[49m\u001b[43my_valid\u001b[49m\u001b[43m,\u001b[49m\u001b[43m \u001b[49m\u001b[43my_pred\u001b[49m\u001b[43m)\u001b[49m)\n",
      "File \u001b[1;32mc:\\Users\\sison\\AppData\\Local\\Programs\\Python\\Python311\\Lib\\site-packages\\sklearn\\utils\\_param_validation.py:214\u001b[0m, in \u001b[0;36mvalidate_params.<locals>.decorator.<locals>.wrapper\u001b[1;34m(*args, **kwargs)\u001b[0m\n\u001b[0;32m    208\u001b[0m \u001b[38;5;28;01mtry\u001b[39;00m:\n\u001b[0;32m    209\u001b[0m     \u001b[38;5;28;01mwith\u001b[39;00m config_context(\n\u001b[0;32m    210\u001b[0m         skip_parameter_validation\u001b[38;5;241m=\u001b[39m(\n\u001b[0;32m    211\u001b[0m             prefer_skip_nested_validation \u001b[38;5;129;01mor\u001b[39;00m global_skip_validation\n\u001b[0;32m    212\u001b[0m         )\n\u001b[0;32m    213\u001b[0m     ):\n\u001b[1;32m--> 214\u001b[0m         \u001b[38;5;28;01mreturn\u001b[39;00m \u001b[43mfunc\u001b[49m\u001b[43m(\u001b[49m\u001b[38;5;241;43m*\u001b[39;49m\u001b[43margs\u001b[49m\u001b[43m,\u001b[49m\u001b[43m \u001b[49m\u001b[38;5;241;43m*\u001b[39;49m\u001b[38;5;241;43m*\u001b[39;49m\u001b[43mkwargs\u001b[49m\u001b[43m)\u001b[49m\n\u001b[0;32m    215\u001b[0m \u001b[38;5;28;01mexcept\u001b[39;00m InvalidParameterError \u001b[38;5;28;01mas\u001b[39;00m e:\n\u001b[0;32m    216\u001b[0m     \u001b[38;5;66;03m# When the function is just a wrapper around an estimator, we allow\u001b[39;00m\n\u001b[0;32m    217\u001b[0m     \u001b[38;5;66;03m# the function to delegate validation to the estimator, but we replace\u001b[39;00m\n\u001b[0;32m    218\u001b[0m     \u001b[38;5;66;03m# the name of the estimator by the name of the function in the error\u001b[39;00m\n\u001b[0;32m    219\u001b[0m     \u001b[38;5;66;03m# message to avoid confusion.\u001b[39;00m\n\u001b[0;32m    220\u001b[0m     msg \u001b[38;5;241m=\u001b[39m re\u001b[38;5;241m.\u001b[39msub(\n\u001b[0;32m    221\u001b[0m         \u001b[38;5;124mr\u001b[39m\u001b[38;5;124m\"\u001b[39m\u001b[38;5;124mparameter of \u001b[39m\u001b[38;5;124m\\\u001b[39m\u001b[38;5;124mw+ must be\u001b[39m\u001b[38;5;124m\"\u001b[39m,\n\u001b[0;32m    222\u001b[0m         \u001b[38;5;124mf\u001b[39m\u001b[38;5;124m\"\u001b[39m\u001b[38;5;124mparameter of \u001b[39m\u001b[38;5;132;01m{\u001b[39;00mfunc\u001b[38;5;241m.\u001b[39m\u001b[38;5;18m__qualname__\u001b[39m\u001b[38;5;132;01m}\u001b[39;00m\u001b[38;5;124m must be\u001b[39m\u001b[38;5;124m\"\u001b[39m,\n\u001b[0;32m    223\u001b[0m         \u001b[38;5;28mstr\u001b[39m(e),\n\u001b[0;32m    224\u001b[0m     )\n",
      "File \u001b[1;32mc:\\Users\\sison\\AppData\\Local\\Programs\\Python\\Python311\\Lib\\site-packages\\sklearn\\metrics\\_classification.py:2545\u001b[0m, in \u001b[0;36mclassification_report\u001b[1;34m(y_true, y_pred, labels, target_names, sample_weight, digits, output_dict, zero_division)\u001b[0m\n\u001b[0;32m   2410\u001b[0m \u001b[38;5;129m@validate_params\u001b[39m(\n\u001b[0;32m   2411\u001b[0m     {\n\u001b[0;32m   2412\u001b[0m         \u001b[38;5;124m\"\u001b[39m\u001b[38;5;124my_true\u001b[39m\u001b[38;5;124m\"\u001b[39m: [\u001b[38;5;124m\"\u001b[39m\u001b[38;5;124marray-like\u001b[39m\u001b[38;5;124m\"\u001b[39m, \u001b[38;5;124m\"\u001b[39m\u001b[38;5;124msparse matrix\u001b[39m\u001b[38;5;124m\"\u001b[39m],\n\u001b[1;32m   (...)\u001b[0m\n\u001b[0;32m   2436\u001b[0m     zero_division\u001b[38;5;241m=\u001b[39m\u001b[38;5;124m\"\u001b[39m\u001b[38;5;124mwarn\u001b[39m\u001b[38;5;124m\"\u001b[39m,\n\u001b[0;32m   2437\u001b[0m ):\n\u001b[0;32m   2438\u001b[0m \u001b[38;5;250m    \u001b[39m\u001b[38;5;124;03m\"\"\"Build a text report showing the main classification metrics.\u001b[39;00m\n\u001b[0;32m   2439\u001b[0m \n\u001b[0;32m   2440\u001b[0m \u001b[38;5;124;03m    Read more in the :ref:`User Guide <classification_report>`.\u001b[39;00m\n\u001b[1;32m   (...)\u001b[0m\n\u001b[0;32m   2542\u001b[0m \u001b[38;5;124;03m    <BLANKLINE>\u001b[39;00m\n\u001b[0;32m   2543\u001b[0m \u001b[38;5;124;03m    \"\"\"\u001b[39;00m\n\u001b[1;32m-> 2545\u001b[0m     y_type, y_true, y_pred \u001b[38;5;241m=\u001b[39m \u001b[43m_check_targets\u001b[49m\u001b[43m(\u001b[49m\u001b[43my_true\u001b[49m\u001b[43m,\u001b[49m\u001b[43m \u001b[49m\u001b[43my_pred\u001b[49m\u001b[43m)\u001b[49m\n\u001b[0;32m   2547\u001b[0m     \u001b[38;5;28;01mif\u001b[39;00m labels \u001b[38;5;129;01mis\u001b[39;00m \u001b[38;5;28;01mNone\u001b[39;00m:\n\u001b[0;32m   2548\u001b[0m         labels \u001b[38;5;241m=\u001b[39m unique_labels(y_true, y_pred)\n",
      "File \u001b[1;32mc:\\Users\\sison\\AppData\\Local\\Programs\\Python\\Python311\\Lib\\site-packages\\sklearn\\metrics\\_classification.py:93\u001b[0m, in \u001b[0;36m_check_targets\u001b[1;34m(y_true, y_pred)\u001b[0m\n\u001b[0;32m     90\u001b[0m     y_type \u001b[38;5;241m=\u001b[39m {\u001b[38;5;124m\"\u001b[39m\u001b[38;5;124mmulticlass\u001b[39m\u001b[38;5;124m\"\u001b[39m}\n\u001b[0;32m     92\u001b[0m \u001b[38;5;28;01mif\u001b[39;00m \u001b[38;5;28mlen\u001b[39m(y_type) \u001b[38;5;241m>\u001b[39m \u001b[38;5;241m1\u001b[39m:\n\u001b[1;32m---> 93\u001b[0m     \u001b[38;5;28;01mraise\u001b[39;00m \u001b[38;5;167;01mValueError\u001b[39;00m(\n\u001b[0;32m     94\u001b[0m         \u001b[38;5;124m\"\u001b[39m\u001b[38;5;124mClassification metrics can\u001b[39m\u001b[38;5;124m'\u001b[39m\u001b[38;5;124mt handle a mix of \u001b[39m\u001b[38;5;132;01m{0}\u001b[39;00m\u001b[38;5;124m and \u001b[39m\u001b[38;5;132;01m{1}\u001b[39;00m\u001b[38;5;124m targets\u001b[39m\u001b[38;5;124m\"\u001b[39m\u001b[38;5;241m.\u001b[39mformat(\n\u001b[0;32m     95\u001b[0m             type_true, type_pred\n\u001b[0;32m     96\u001b[0m         )\n\u001b[0;32m     97\u001b[0m     )\n\u001b[0;32m     99\u001b[0m \u001b[38;5;66;03m# We can't have more than one value on y_type => The set is no more needed\u001b[39;00m\n\u001b[0;32m    100\u001b[0m y_type \u001b[38;5;241m=\u001b[39m y_type\u001b[38;5;241m.\u001b[39mpop()\n",
      "\u001b[1;31mValueError\u001b[0m: Classification metrics can't handle a mix of binary and unknown targets"
     ]
    }
   ],
   "source": [
    "print(classification_report(y_valid, y_pred))"
   ]
  }
 ],
 "metadata": {
  "kernelspec": {
   "display_name": "Python 3",
   "language": "python",
   "name": "python3"
  },
  "language_info": {
   "codemirror_mode": {
    "name": "ipython",
    "version": 3
   },
   "file_extension": ".py",
   "mimetype": "text/x-python",
   "name": "python",
   "nbconvert_exporter": "python",
   "pygments_lexer": "ipython3",
   "version": "3.11.1"
  }
 },
 "nbformat": 4,
 "nbformat_minor": 2
}
