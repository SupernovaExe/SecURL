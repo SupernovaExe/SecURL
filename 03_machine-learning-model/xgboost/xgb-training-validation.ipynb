{
 "cells": [
  {
   "cell_type": "markdown",
   "metadata": {},
   "source": [
    "# Extreme Gradient Boosting Classifier\n",
    "\n",
    "By Steven Sison on December 16, 2023"
   ]
  },
  {
   "cell_type": "markdown",
   "metadata": {},
   "source": [
    "## Description\n",
    "\n",
    "This document will be used for the preliminary training and evaluation of the extreme gradient boosting classifier. The document includes the necessary processes taken to train the model with the default hyperparameters. This also evaluates the performance of the classifier in terms of accuracy, precision, recall, F1-score, training time, and detection time. Furthermore, this document will only use lexical features and will observe the effect of increasing the number of features used in the model. As this is only for preliminary work, no optimizations, except a simple train-test validation, will be carried out."
   ]
  },
  {
   "cell_type": "markdown",
   "metadata": {},
   "source": [
    "### Preliminaries"
   ]
  },
  {
   "cell_type": "code",
   "execution_count": null,
   "metadata": {},
   "outputs": [],
   "source": [
    "import pandas as pd                     # For data transformation\n",
    "import numpy as numpy                   # For scientific calculations\n",
    "import seaborn as sns                   # For data visualizations\n",
    "import matplotlib.pyplot as plt         # For plotting\n",
    "import plotly.graph_objects as go       # For plotting\n",
    "from sklearn.model_selection import train_test_split, cross_val_score, cross_val_predict\n",
    "from sklearn.metrics import accuracy_score, recall_score, precision_score, f1_score, classification_report\n",
    "from sklearn.metrics import confusion_matrix, classification_report, accuracy_score, ConfusionMatrixDisplay\n",
    "from xgboost import XGBClassifier\n",
    "from sklearn.pipeline import Pipeline\n",
    "import time\n",
    "from datetime import datetime\n",
    "import joblib\n",
    "\n",
    "dataset = pd.read_csv(\"final_unbalanced_withLexical.csv\")      # Loading the dataset\n",
    "x_train, x_test, y_train, y_test = train_test_split(dataset.drop(columns=['url_type']), dataset['url_type'], test_size = 0.2, random_state=42)"
   ]
  },
  {
   "cell_type": "markdown",
   "metadata": {},
   "source": [
    "## Model Training and Evaluation"
   ]
  },
  {
   "cell_type": "markdown",
   "metadata": {},
   "source": [
    "### Base Model using All Lexical Features Generated"
   ]
  },
  {
   "cell_type": "code",
   "execution_count": null,
   "metadata": {},
   "outputs": [],
   "source": [
    "pipeline = XGBClassifier()\n",
    "\n",
    "pipeline.fit(x_train, y_train)\n",
    "\n",
    "# pipeline = XGBClassifier()\n",
    "pipeline.fit(x_train, y_train)"
   ]
  },
  {
   "cell_type": "code",
   "execution_count": null,
   "metadata": {},
   "outputs": [],
   "source": [
    "y_pred = pipeline.predict(x_test)\n",
    "print(classification_report(y_test, y_pred))"
   ]
  },
  {
   "cell_type": "code",
   "execution_count": null,
   "metadata": {},
   "outputs": [],
   "source": [
    "cm = confusion_matrix(y_test, y_pred, labels=pipeline.classes_)\n",
    "disp = ConfusionMatrixDisplay(confusion_matrix = cm, display_labels = pipeline.classes_)\n",
    "disp.plot()\n",
    "plt.show()"
   ]
  },
  {
   "cell_type": "markdown",
   "metadata": {},
   "source": [
    "### Evaluating the Effect of Balanced and Unbalanced Datasets"
   ]
  },
  {
   "cell_type": "code",
   "execution_count": null,
   "metadata": {},
   "outputs": [],
   "source": [
    "dataset['url_type'].value_counts()"
   ]
  },
  {
   "cell_type": "code",
   "execution_count": null,
   "metadata": {},
   "outputs": [],
   "source": [
    "# Upsampling\n",
    "\n",
    "from sklearn.utils import resample\n",
    "\n",
    "dataset_benign = dataset[(dataset['url_type'] == 0)]\n",
    "dataset_defacement = dataset[(dataset['url_type'] == 1)]\n",
    "dataset_phishing = dataset[(dataset['url_type'] == 2)]\n",
    "dataset_malware = dataset[(dataset['url_type'] == 3)]\n",
    "\n",
    "dataset_defacement_upsampled = resample(dataset_defacement,\n",
    "                                        replace=True,\n",
    "                                        n_samples = dataset_benign.shape[0],\n",
    "                                        random_state = 15)\n",
    "\n",
    "dataset_phishing_upsampled = resample(dataset_phishing,\n",
    "                                        replace=True,\n",
    "                                        n_samples = dataset_benign.shape[0],\n",
    "                                        random_state = 15)\n",
    "\n",
    "dataset_malware_upsampled = resample(dataset_malware,\n",
    "                                        replace=True,\n",
    "                                        n_samples = dataset_benign.shape[0],\n",
    "                                        random_state = 15)\n",
    "\n",
    "dataset_benign_upsampled = resample(dataset_benign,\n",
    "                                        replace=True,\n",
    "                                        n_samples = dataset_benign.shape[0],\n",
    "                                        random_state = 15)\n",
    "\n",
    "dataset_upsampled = pd.concat([dataset_benign_upsampled, dataset_defacement_upsampled, dataset_malware_upsampled, dataset_phishing_upsampled])\n",
    "\n",
    "# dataset_upsampled.info(0)\n",
    "dataset_upsampled['url_type'].value_counts()\n",
    "\n",
    "x_up_train, x_up_test, y_up_train, y_up_test = train_test_split(dataset_upsampled.drop(columns=['url_type']), dataset_upsampled['url_type'], test_size = 0.2, random_state=42)\n"
   ]
  },
  {
   "cell_type": "code",
   "execution_count": null,
   "metadata": {},
   "outputs": [],
   "source": [
    "pipeline_up = Pipeline([\n",
    "    ('classifier', XGBClassifier())\n",
    "])\n",
    "\n",
    "pipeline_up.fit(x_up_train, y_up_train)\n",
    "y_up_pred = pipeline_up.predict(x_up_test)\n",
    "print(classification_report(y_up_test, y_up_pred))"
   ]
  },
  {
   "cell_type": "code",
   "execution_count": null,
   "metadata": {},
   "outputs": [],
   "source": [
    "cm_up = confusion_matrix(y_up_test, y_up_pred, labels=pipeline_up.classes_)\n",
    "disp = ConfusionMatrixDisplay(confusion_matrix = cm_up, display_labels = pipeline_up.classes_)\n",
    "disp.plot()\n",
    "plt.show()"
   ]
  },
  {
   "cell_type": "code",
   "execution_count": null,
   "metadata": {},
   "outputs": [],
   "source": [
    "from mlxtend.evaluate import bias_variance_decomp\n",
    "\n",
    "avg_expected_loss, avg_bias, avg_var = bias_variance_decomp(\n",
    "        XGBClassifier(), x_up_train.to_numpy(), y_up_train.to_numpy(), x_up_test.to_numpy(), y_up_test.to_numpy(), \n",
    "        loss='0-1_loss',\n",
    "        random_seed=42)\n",
    "\n",
    "print('Average expected loss: %.3f' % avg_expected_loss)\n",
    "print('Average bias: %.3f' % avg_bias)\n",
    "print('Average variance: %.3f' % avg_var)\n",
    "print('Sklearn 0-1 loss: %.3f' % zero_one_loss(y_test,y_pred))"
   ]
  },
  {
   "cell_type": "markdown",
   "metadata": {},
   "source": [
    "### Evaluating the Effect of Adding more Lexical Features"
   ]
  },
  {
   "cell_type": "code",
   "execution_count": null,
   "metadata": {},
   "outputs": [],
   "source": [
    "results = []\n",
    "\n",
    "for i in range(3):\n",
    "    pipeline = XGBClassifier()\n",
    "\n",
    "    temp_url_features = x_up_train.iloc[:, 0:(25*(i+1))]\n",
    "    \n",
    "    pipeline.fit(temp_url_features, y_up_train)\n",
    "    \n",
    "    pipeline.save_model('xgb_lexical_{}.json'.format((25*(i+1))))\n",
    "\n",
    "    url_type_predict = pipeline.predict(x_up_test.iloc[:, 0:(25*(i+1))])\n",
    "\n",
    "    accuracy = accuracy_score(y_up_test, url_type_predict)\n",
    "    recall = recall_score(y_up_test, url_type_predict, average = 'weighted')\n",
    "    precision = precision_score(y_up_test, url_type_predict, average = 'weighted', zero_division=1)\n",
    "    f1 = f1_score(y_up_test, url_type_predict, average = 'weighted')\n",
    "    results.append(((4*(i+1)), accuracy, recall, precision, f1))"
   ]
  },
  {
   "cell_type": "code",
   "execution_count": null,
   "metadata": {},
   "outputs": [],
   "source": [
    "results = pd.DataFrame(results, columns=['Number of Features', 'Accuracy', 'Recall', 'Precision', 'F1-Score'])\n",
    "results = results.sort_values(by='Number of Features', ascending=True)\n",
    "print(results)"
   ]
  },
  {
   "cell_type": "markdown",
   "metadata": {},
   "source": [
    "Observations:\n",
    "- Increasing the number of features improves all the class weighted metrics of the model at the cost of a higher training time."
   ]
  },
  {
   "cell_type": "markdown",
   "metadata": {},
   "source": [
    "## Model Optimizations"
   ]
  },
  {
   "cell_type": "markdown",
   "metadata": {},
   "source": [
    "### Sensitivity Test for K (No Hyperparameter Tuning but using Balanced Dataset)"
   ]
  },
  {
   "cell_type": "code",
   "execution_count": null,
   "metadata": {},
   "outputs": [],
   "source": [
    "from numpy import mean\n",
    "from sklearn.model_selection import LeaveOneOut\n",
    "from sklearn.model_selection import KFold\n",
    "from matplotlib import pyplot\n",
    "\n",
    "def evaluating_model(cv):\n",
    "\n",
    "    X, y = dataset_upsampled.drop(columns=['url_type']), dataset_upsampled['url_type']\n",
    "\n",
    "    model = XGBClassifier()\n",
    "    scores = cross_val_score(model, X,y, scoring = \"accuracy\", cv = cv, n_jobs=1)\n",
    "\n",
    "    return mean(scores), scores.min(), scores.max()\n",
    "\n",
    "# Getting the Ideal Score\n",
    "'''ideal, _, _ = evaluating_model(LeaveOneOut())\n",
    "print('Ideal: %.3f' % ideal)'''\n",
    "\n",
    "folds = range(10,11)\n",
    "\n",
    "means, mins, maxs = list(), list(), list()\n",
    "\n",
    "for k in folds:\n",
    "    # define the test condition\n",
    "    cv = KFold(n_splits=k, shuffle=True, random_state=1)\n",
    "    # evaluate k value\n",
    "    k_mean, k_min, k_max = evaluating_model(cv)\n",
    "    # report performance\n",
    "    print('> folds=%d, accuracy=%.3f (%.3f,%.3f)' % (k, k_mean, k_min, k_max))\n",
    "    # store mean accuracy\n",
    "    means.append(k_mean)\n",
    "    # store min and max relative to the mean\n",
    "    mins.append(k_mean - k_min)\n",
    "    maxs.append(k_max - k_mean)\n",
    "\n",
    "# line plot of k mean values with min/max error bars\n",
    "pyplot.errorbar(folds, means, yerr=[mins, maxs], fmt='o')\n",
    "# plot the ideal case in a separate color\n",
    "# pyplot.plot(folds, [ideal for _ in range(len(folds))], color='r')\n",
    "# show the plot\n",
    "pyplot.show()\n"
   ]
  },
  {
   "cell_type": "markdown",
   "metadata": {},
   "source": [
    "### Hyperparameter Optimization (Grid Search) and Cross Validation Setup"
   ]
  },
  {
   "cell_type": "code",
   "execution_count": null,
   "metadata": {},
   "outputs": [],
   "source": [
    "from bayes_opt import BayesianOptimization\n",
    "\n",
    "def gbm_cl_bo(colsample_bylevel, colsample_bytree, max_depth, learning_rate, n_estimators, reg_alpha, reg_lambda):\n",
    "    params_gbm = {}\n",
    "    params_gbm['colsample_bylevel'] = colsample_bylevel\n",
    "    params_gbm['colsample_bytree'] = colsample_bytree\n",
    "    params_gbm['max_depth'] = round(max_depth)\n",
    "    params_gbm['learning_rate'] = learning_rate\n",
    "    params_gbm['n_estimators'] = round(n_estimators)\n",
    "    params_gbm['reg_alpha'] = reg_alpha\n",
    "    params_gbm['reg_lambda'] = reg_lambda\n",
    "    scores = cross_val_score(XGBClassifier(random_state=123, **params_gbm),\n",
    "                             x_up_train, y_up_train, scoring='accuracy', cv=5).mean()\n",
    "    score = scores.mean()\n",
    "    return score\n",
    "# Run Bayesian Optimization\n",
    "start = time.time()\n",
    "params_gbm ={\n",
    "    'colsample_bylevel': (0,1),\n",
    "    'colsample_bytree': (0,1),\n",
    "    'max_depth':(3, 10),\n",
    "    'learning_rate':(0.01, 1),\n",
    "    'n_estimators':(80, 150),\n",
    "    'reg_alpha': (0,5),\n",
    "    'reg_lambda':(0,5) \n",
    "}\n",
    "gbm_bo = BayesianOptimization(gbm_cl_bo, params_gbm, random_state=111)\n",
    "gbm_bo.maximize(init_points=20, n_iter=4)\n",
    "print('It takes %s minutes' % ((time.time() - start)/60))"
   ]
  },
  {
   "cell_type": "markdown",
   "metadata": {},
   "source": [
    "### Hyperparameter Optimization using Optuna"
   ]
  },
  {
   "cell_type": "code",
   "execution_count": null,
   "metadata": {},
   "outputs": [],
   "source": [
    "import optuna\n",
    "import xgboost as xgb\n",
    "from sklearn.metrics import mean_squared_error # or any other metric\n",
    "from sklearn.model_selection import train_test_split\n",
    "\n",
    "# Define the objective function for Optuna\n",
    "def objective(trial):\n",
    "    # Define the search space for hyperparameters\n",
    "    param = {\n",
    "        'objective': 'reg:squarederror',\n",
    "        'eval_metric': 'rmse',\n",
    "        'eta': trial.suggest_float('eta', 0.01, 0.3),\n",
    "        'n_estimators': 100000, # Fix the boosting round and use early stopping\n",
    "        'max_depth': trial.suggest_int('max_depth', 3, 10),\n",
    "        'subsample': trial.suggest_float('subsample', 0.5, 1.0),\n",
    "        'colsample_bytree': trial.suggest_float('colsample_bytree', 0.5, 1.0),\n",
    "        'gamma': trial.suggest_float('gamma', 0.0, 10.0),\n",
    "        'min_child_weight': trial.suggest_float('min_child_weight', 0.1, 10.0),\n",
    "        'lambda': trial.suggest_float('lambda', 0.1, 10.0),\n",
    "        'alpha': trial.suggest_float('alpha', 0.0, 10.0),\n",
    "    }\n",
    "    \n",
    "    # Split the data into further training and validation sets (three sets are preferable)\n",
    "    train_data, valid_data, train_target, valid_target = train_test_split(x_train, y_train, test_size=0.2, random_state=42)\n",
    "    \n",
    "    # Convert the data into DMatrix format\n",
    "    dtrain = xgb.DMatrix(train_data, label=train_target)\n",
    "    dvalid = xgb.DMatrix(valid_data, label=valid_target)\n",
    "    \n",
    "    # Define the pruning callback for early stopping\n",
    "    pruning_callback = optuna.integration.XGBoostPruningCallback(trial, 'validation-rmse')\n",
    "    \n",
    "    # Train the model with early stopping\n",
    "    model = xgb.train(param, dtrain, num_boost_round=100000, evals=[(dvalid, 'validation')], early_stopping_rounds=100, callbacks=[pruning_callback])\n",
    "    \n",
    "    # Make predictions on the test set\n",
    "    dtest = xgb.DMatrix(valid_data)\n",
    "    y_pred = model.predict(dtest)\n",
    "    \n",
    "    # Calculate the root mean squared error\n",
    "    rmse = mean_squared_error(valid_target, y_pred, squared=False)\n",
    "    \n",
    "    return rmse\n",
    "\n",
    "# Create an Optuna study and optimize the objective function\n",
    "study = optuna.create_study(direction='minimize')\n",
    "study.optimize(objective, n_trials=100) # Control the number of trials\n",
    "\n",
    "# Print the best hyperparameters and the best RMSE\n",
    "best_params = study.best_params\n",
    "best_rmse = study.best_value\n",
    "print(\"Best Hyperparameters: \", best_params)\n",
    "print(\"Best RMSE: \", best_rmse)\n",
    "\n",
    "#---------------------------------------------------------------------#\n",
    "# You can also tune for multiple metrics. See here: https://stackoverflow.com/questions/69071684/how-to-optimize-for-multiple-metrics-in-optuna"
   ]
  }
 ],
 "metadata": {
  "kernelspec": {
   "display_name": "base",
   "language": "python",
   "name": "python3"
  },
  "language_info": {
   "codemirror_mode": {
    "name": "ipython",
    "version": 3
   },
   "file_extension": ".py",
   "mimetype": "text/x-python",
   "name": "python",
   "nbconvert_exporter": "python",
   "pygments_lexer": "ipython3",
   "version": "3.11.1"
  }
 },
 "nbformat": 4,
 "nbformat_minor": 2
}
