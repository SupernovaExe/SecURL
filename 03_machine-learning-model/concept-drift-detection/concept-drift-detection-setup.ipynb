{
 "cells": [
  {
   "cell_type": "markdown",
   "metadata": {},
   "source": [
    "# Concept Drift Detection\n",
    "\n",
    "Steven Sison | April 29, 2024"
   ]
  },
  {
   "cell_type": "markdown",
   "metadata": {},
   "source": [
    "## Description"
   ]
  },
  {
   "cell_type": "markdown",
   "metadata": {},
   "source": [
    "This document will be used to set-up and evaluate the concept drift detection algorithm, DDM. The document will include preliminary set-up as well as the necessary evaluations to check the performance of the detector.\n"
   ]
  },
  {
   "cell_type": "markdown",
   "metadata": {},
   "source": [
    "## Setting Up the Algorithm"
   ]
  },
  {
   "cell_type": "markdown",
   "metadata": {},
   "source": [
    "### Steps"
   ]
  },
  {
   "cell_type": "markdown",
   "metadata": {},
   "source": [
    "1. Generate the Warm-Up Dataset and Streaming Dataset\n",
    "2. Set-up the Detector Configuration\n",
    "3. Set-up the metrics such as the error scorers.\n",
    "4. Start the Concept Drift Detection\n",
    "    - Warm Up Phase\n",
    "    - Testing Phase"
   ]
  },
  {
   "cell_type": "markdown",
   "metadata": {},
   "source": [
    "### Preliminaries"
   ]
  },
  {
   "cell_type": "code",
   "execution_count": null,
   "metadata": {},
   "outputs": [],
   "source": [
    "import pandas as pd                     # For data transformation\n",
    "import numpy as numpy                   # For scientific calculations\n",
    "import seaborn as sns                   # For data visualizations\n",
    "import matplotlib.pyplot as plt         # For plotting\n",
    "import matplotlib.patches as mpatches\n",
    "\n",
    "# For Concept Drift\n",
    "from frouros.datasets.synthetic import SEA\n",
    "from frouros.detectors.concept_drift import DDM, DDMConfig\n",
    "from frouros.metrics.prequential_error import PrequentialError\n",
    "\n",
    "import random\n",
    "from river import drift"
   ]
  },
  {
   "cell_type": "markdown",
   "metadata": {},
   "source": [
    "### Generating the Warm-Up Dataset and Streaming Dataset"
   ]
  },
  {
   "cell_type": "markdown",
   "metadata": {},
   "source": [
    "#### Warm-up Dataset"
   ]
  },
  {
   "cell_type": "code",
   "execution_count": null,
   "metadata": {},
   "outputs": [],
   "source": [
    "warm_up_dataset = pd.read_csv(\"binary_new_Bacud_unbalanced_lexical.csv\")\n",
    "\n",
    "warm_up_dataset['actual'] = warm_up_dataset['url_type']\n",
    "warm_up_dataset['predicted'] = warm_up_dataset['url_type']\n",
    "\n",
    "warm_up_dataset = warm_up_dataset[['predicted', 'actual']]\n",
    "\n",
    "warm_up_dataset.head()"
   ]
  },
  {
   "cell_type": "markdown",
   "metadata": {},
   "source": [
    "#### Streaming Dataset"
   ]
  },
  {
   "cell_type": "code",
   "execution_count": null,
   "metadata": {},
   "outputs": [],
   "source": [
    "# Temporarily create 4 divisions of the warm-up dataset\n",
    "# First 10k for warm-up, next 10k for correct predictions, next 10k to induce concept drift\n",
    "\n",
    "warm_up = warm_up_dataset.head(10000)\n",
    "temp_after_warm_up = warm_up_dataset[9501: 10001]\n",
    "temp_concept_drift = warm_up_dataset[10001: 20001]\n"
   ]
  },
  {
   "cell_type": "code",
   "execution_count": null,
   "metadata": {},
   "outputs": [],
   "source": [
    "# Put incorrect predictions in temp_concept_drift\n",
    "temp_after_warm_up[\"predicted\"] = temp_concept_drift[\"predicted\"].replace({\n",
    "    0:1,\n",
    "    1:0,\n",
    "});\n",
    "\n",
    "temp_concept_drift[\"predicted\"] = temp_concept_drift[\"predicted\"].replace({\n",
    "    0:1,\n",
    "    1:0,\n",
    "});\n",
    "\n",
    "temp_concept_drift.head()"
   ]
  },
  {
   "cell_type": "code",
   "execution_count": null,
   "metadata": {},
   "outputs": [],
   "source": [
    "# Combine the testing phase and with the concept drift\n",
    "\n",
    "concept_drift_test = pd.concat([warm_up, temp_after_warm_up])\n",
    "\n",
    "concept_drift_test.head()"
   ]
  },
  {
   "cell_type": "markdown",
   "metadata": {},
   "source": [
    "### Detector Configuration"
   ]
  },
  {
   "cell_type": "code",
   "execution_count": null,
   "metadata": {},
   "outputs": [],
   "source": [
    "temp_warm_up_predicted = pd.read_csv(\"warm-up-predicted.csv\")\n",
    "temp_warm_up_actual = pd.read_csv(\"warm-up-actual.csv\")\n",
    "\n",
    "temp_testing_predicted = pd.read_csv(\"testing-predicted.csv\")\n",
    "temp_testing_up_actual = pd.read_csv(\"testing-actual.csv\")"
   ]
  },
  {
   "cell_type": "code",
   "execution_count": null,
   "metadata": {},
   "outputs": [],
   "source": [
    "config = DDMConfig(\n",
    "    warning_level=2.0,\n",
    "    drift_level=3.0,\n",
    "    min_num_instances=len(\n",
    "        temp_warm_up_predicted.index\n",
    "    ),  # Minimum number of instances to start checking for drift\n",
    ")\n",
    "\n",
    "detector = DDM(\n",
    "    config=config,\n",
    ")"
   ]
  },
  {
   "cell_type": "markdown",
   "metadata": {},
   "source": [
    "### Error Metrics"
   ]
  },
  {
   "cell_type": "code",
   "execution_count": null,
   "metadata": {},
   "outputs": [],
   "source": [
    "metrics = [\n",
    "    PrequentialError(\n",
    "        alpha=alpha,\n",
    "        name=f\"alpha={alpha}\",\n",
    "    )\n",
    "    for alpha in [1.0, 0.9999, 0.999]\n",
    "]\n",
    "metrics_historic_detector = {f\"{metric.name}\": [] for metric in metrics}\n",
    "\n",
    "\n",
    "def error_scorer(y_true, y_pred):  # Error function\n",
    "    return 1 - (y_true == y_pred)"
   ]
  },
  {
   "cell_type": "markdown",
   "metadata": {},
   "source": [
    "### Concept Drift Detection Using Frouros"
   ]
  },
  {
   "cell_type": "markdown",
   "metadata": {},
   "source": [
    "### Concept Drift Detection Using Frouros"
   ]
  },
  {
   "cell_type": "code",
   "execution_count": null,
   "metadata": {},
   "outputs": [],
   "source": [
    "rng = random.Random(42)"
   ]
  },
  {
   "cell_type": "markdown",
   "metadata": {},
   "source": [
    "#### Warm-Up Phase"
   ]
  },
  {
   "cell_type": "code",
   "execution_count": null,
   "metadata": {},
   "outputs": [],
   "source": [
    "# Warm-up detector\n",
    "print(f\"Warming up detector with {len(temp_warm_up_predicted.index)} samples\")\n",
    "\n",
    "warm_up_predicted = temp_warm_up_predicted.iloc[:, 0].tolist()\n",
    "warm_up_actual = temp_warm_up_actual.iloc[:, 0].tolist()\n",
    "\n",
    "for y_pred, y_actual in zip(warm_up_predicted, warm_up_actual):\n",
    "    error = error_scorer(y_true=y_actual, y_pred=y_pred)\n",
    "    _ = detector.update(value=error)\n",
    "\n",
    "    for metric_historic, metric in zip(metrics_historic_detector.keys(), metrics):\n",
    "        metrics_historic_detector[metric_historic].append(metric(error))"
   ]
  },
  {
   "cell_type": "markdown",
   "metadata": {},
   "source": [
    "#### Testing Phase"
   ]
  },
  {
   "cell_type": "code",
   "execution_count": null,
   "metadata": {},
   "outputs": [],
   "source": [
    "idx_drift, idx_warning = [], []\n",
    "\n",
    "i = len(temp_warm_up_predicted.index)\n",
    "test_predicted = temp_testing_predicted.iloc[:, 0].tolist()\n",
    "test_actual = temp_testing_up_actual.iloc[:, 0].tolist()\n",
    "\n",
    "\n",
    "for y_pred, y_actual in zip(test_predicted, test_actual):\n",
    "\n",
    "    error = error_scorer(y_true=y_actual, y_pred=y_pred)\n",
    "    _ = detector.update(value=error)  # Detector's update\n",
    "\n",
    "    # All the following lines are optional and only used for plotting the whole process\n",
    "    for metric_historic, metric in zip(metrics_historic_detector.keys(), metrics):\n",
    "        metrics_historic_detector[metric_historic].append(metric(error))\n",
    "\n",
    "    status = detector.status\n",
    "    if status[\"drift\"]:\n",
    "        # Drift detected\n",
    "        print(f\"Drift detected at index: {i}\")\n",
    "        idx_drift.append(i)\n",
    "        detector.reset()  # Reset detector\n",
    "        for metric in metrics:  # Reset metrics\n",
    "            metric.reset()\n",
    "        break  # Stop simulation\n",
    "    elif status[\"warning\"]:\n",
    "        # Warning zone\n",
    "        idx_warning.append(i)\n",
    "    i += 1"
   ]
  },
  {
   "cell_type": "markdown",
   "metadata": {},
   "source": [
    "#### Visualization"
   ]
  },
  {
   "cell_type": "code",
   "execution_count": null,
   "metadata": {},
   "outputs": [],
   "source": [
    "plt.rcParams.update({\"font.size\": 20})\n",
    "\n",
    "alpha = 0.6\n",
    "linewidth = 1.0\n",
    "\n",
    "fig, ax = plt.subplots(\n",
    "    nrows=2,\n",
    "    ncols=1,\n",
    "    figsize=(12, 8),\n",
    "    sharex=True,\n",
    "    dpi=300,\n",
    "    gridspec_kw={\"height_ratios\": [3, 1]},\n",
    ")\n",
    "\n",
    "for (metric_name, metric_values), linecolor in zip(\n",
    "    metrics_historic_detector.items(),\n",
    "    [\"#1f77b4\", \"#ff7f0e\", \"#2ca02c\"],\n",
    "):\n",
    "    ax[0].plot(\n",
    "        metric_values,\n",
    "        color=linecolor,\n",
    "        linewidth=linewidth,\n",
    "        alpha=alpha,\n",
    "        label=metric_name,\n",
    "    )\n",
    "\n",
    "drift_color = \"red\"\n",
    "drift_linestyle = \"--\"\n",
    "warmup_color = \"grey\"\n",
    "warning_color = \"#e8f519\"\n",
    "real_drift_color = \"black\"\n",
    "\n",
    "for idx in range(0, len(temp_warm_up_predicted.index)):\n",
    "    ax[1].axvline(x=idx, color=warmup_color, linewidth=linewidth)\n",
    "\n",
    "for idx in idx_warning:\n",
    "    ax[1].axvline(x=idx, color=warning_color, linewidth=linewidth)\n",
    "\n",
    "for idx in idx_drift:\n",
    "    ax[1].axvline(x=idx, color=drift_color, linestyle=drift_linestyle, linewidth=1.5)\n",
    "\n",
    "ax[0].set_ylabel(\"Prequential Error\")\n",
    "ax[0].legend(\n",
    "    loc=\"lower center\",\n",
    "    ncol=3,\n",
    "    bbox_to_anchor=(0.5, -0.175),\n",
    "    fancybox=True,\n",
    ")\n",
    "ax[1].set_yticks([])\n",
    "ax[1].set_ylabel(\"Detector\")\n",
    "drift_path = mpatches.Patch(\n",
    "    color=drift_color, label=\"Drift detected\", linestyle=drift_linestyle\n",
    ")\n",
    "warning_path = mpatches.Patch(color=warning_color, label=\"Warning\")\n",
    "warmup_path = mpatches.Patch(color=warmup_color, label=\"Warm up\")\n",
    "real_drift_path = mpatches.Patch(\n",
    "    color=real_drift_color, label=\"Real drift\", linestyle=drift_linestyle\n",
    ")\n",
    "ax[1].axvline(x=20000, linestyle=drift_linestyle, linewidth=1.5)\n",
    "ax[1].legend(\n",
    "    handles=[warmup_path, warning_path, drift_path],\n",
    "    loc=\"upper center\",\n",
    "    ncol=4,\n",
    "    bbox_to_anchor=(0.5, -0.2),\n",
    "    fancybox=True,\n",
    ")\n",
    "\n",
    "fig.tight_layout()\n",
    "plt.show()"
   ]
  }
 ],
 "metadata": {
  "kernelspec": {
   "display_name": "Python 3",
   "language": "python",
   "name": "python3"
  },
  "language_info": {
   "codemirror_mode": {
    "name": "ipython",
    "version": 3
   },
   "file_extension": ".py",
   "mimetype": "text/x-python",
   "name": "python",
   "nbconvert_exporter": "python",
   "pygments_lexer": "ipython3",
   "version": "3.11.1"
  }
 },
 "nbformat": 4,
 "nbformat_minor": 2
}
