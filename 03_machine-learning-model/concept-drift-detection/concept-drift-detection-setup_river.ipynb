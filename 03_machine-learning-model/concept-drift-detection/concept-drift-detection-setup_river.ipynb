{
 "cells": [
  {
   "cell_type": "markdown",
   "metadata": {},
   "source": [
    "# Concept Drift Detection\n",
    "\n",
    "Steven Sison | April 29, 2024"
   ]
  },
  {
   "cell_type": "markdown",
   "metadata": {},
   "source": [
    "## Description"
   ]
  },
  {
   "cell_type": "markdown",
   "metadata": {},
   "source": [
    "This document will be used to set-up and evaluate the concept drift detection algorithm, DDM. The document will include preliminary set-up as well as the necessary evaluations to check the performance of the detector.\n"
   ]
  },
  {
   "cell_type": "markdown",
   "metadata": {},
   "source": [
    "## Setting Up the Algorithm"
   ]
  },
  {
   "cell_type": "markdown",
   "metadata": {},
   "source": [
    "### Steps"
   ]
  },
  {
   "cell_type": "markdown",
   "metadata": {},
   "source": [
    "1. Generate the Warm-Up Dataset and Streaming Dataset\n",
    "2. Set-up the Detector Configuration\n",
    "3. Set-up the metrics such as the error scorers.\n",
    "4. Start the Concept Drift Detection\n",
    "    - Warm Up Phase\n",
    "    - Testing Phase"
   ]
  },
  {
   "cell_type": "markdown",
   "metadata": {},
   "source": [
    "### Preliminaries"
   ]
  },
  {
   "cell_type": "code",
   "execution_count": 1,
   "metadata": {},
   "outputs": [],
   "source": [
    "import pandas as pd                     # For data transformation\n",
    "import numpy as numpy                   # For scientific calculations\n",
    "import seaborn as sns                   # For data visualizations\n",
    "import matplotlib.pyplot as plt         # For plotting\n",
    "import matplotlib.patches as mpatches\n",
    "\n",
    "# For Concept Drift\n",
    "from frouros.datasets.synthetic import SEA\n",
    "from frouros.detectors.concept_drift import DDM, DDMConfig\n",
    "from frouros.metrics.prequential_error import PrequentialError\n",
    "\n",
    "import random\n",
    "from river import drift"
   ]
  },
  {
   "cell_type": "markdown",
   "metadata": {},
   "source": [
    "### Generating the Warm-Up Dataset and Streaming Dataset"
   ]
  },
  {
   "cell_type": "markdown",
   "metadata": {},
   "source": [
    "#### Warm-up Dataset"
   ]
  },
  {
   "cell_type": "code",
   "execution_count": 2,
   "metadata": {},
   "outputs": [
    {
     "data": {
      "text/html": [
       "<div>\n",
       "<style scoped>\n",
       "    .dataframe tbody tr th:only-of-type {\n",
       "        vertical-align: middle;\n",
       "    }\n",
       "\n",
       "    .dataframe tbody tr th {\n",
       "        vertical-align: top;\n",
       "    }\n",
       "\n",
       "    .dataframe thead th {\n",
       "        text-align: right;\n",
       "    }\n",
       "</style>\n",
       "<table border=\"1\" class=\"dataframe\">\n",
       "  <thead>\n",
       "    <tr style=\"text-align: right;\">\n",
       "      <th></th>\n",
       "      <th>predicted</th>\n",
       "      <th>actual</th>\n",
       "    </tr>\n",
       "  </thead>\n",
       "  <tbody>\n",
       "    <tr>\n",
       "      <th>0</th>\n",
       "      <td>1</td>\n",
       "      <td>1</td>\n",
       "    </tr>\n",
       "    <tr>\n",
       "      <th>1</th>\n",
       "      <td>0</td>\n",
       "      <td>0</td>\n",
       "    </tr>\n",
       "    <tr>\n",
       "      <th>2</th>\n",
       "      <td>0</td>\n",
       "      <td>0</td>\n",
       "    </tr>\n",
       "    <tr>\n",
       "      <th>3</th>\n",
       "      <td>1</td>\n",
       "      <td>1</td>\n",
       "    </tr>\n",
       "    <tr>\n",
       "      <th>4</th>\n",
       "      <td>1</td>\n",
       "      <td>1</td>\n",
       "    </tr>\n",
       "  </tbody>\n",
       "</table>\n",
       "</div>"
      ],
      "text/plain": [
       "   predicted  actual\n",
       "0          1       1\n",
       "1          0       0\n",
       "2          0       0\n",
       "3          1       1\n",
       "4          1       1"
      ]
     },
     "execution_count": 2,
     "metadata": {},
     "output_type": "execute_result"
    }
   ],
   "source": [
    "warm_up_dataset = pd.read_csv(\"binary_new_Bacud_unbalanced_lexical.csv\")\n",
    "\n",
    "warm_up_dataset['actual'] = warm_up_dataset['url_type']\n",
    "warm_up_dataset['predicted'] = warm_up_dataset['url_type']\n",
    "\n",
    "warm_up_dataset = warm_up_dataset[['predicted', 'actual']]\n",
    "\n",
    "warm_up_dataset.head()"
   ]
  },
  {
   "cell_type": "markdown",
   "metadata": {},
   "source": [
    "#### Streaming Dataset"
   ]
  },
  {
   "cell_type": "code",
   "execution_count": 29,
   "metadata": {},
   "outputs": [],
   "source": [
    "# Temporarily create 4 divisions of the warm-up dataset\n",
    "# First 10k for warm-up, next 10k for correct predictions, next 10k to induce concept drift\n",
    "\n",
    "warm_up = warm_up_dataset.head(9500)\n",
    "temp_after_warm_up = warm_up_dataset[9501: 10001]\n",
    "temp_concept_drift = warm_up_dataset[10001: 20001]\n"
   ]
  },
  {
   "cell_type": "code",
   "execution_count": 30,
   "metadata": {},
   "outputs": [
    {
     "name": "stderr",
     "output_type": "stream",
     "text": [
      "C:\\Users\\sison\\AppData\\Local\\Temp\\ipykernel_5092\\3158928081.py:2: SettingWithCopyWarning: \n",
      "A value is trying to be set on a copy of a slice from a DataFrame.\n",
      "Try using .loc[row_indexer,col_indexer] = value instead\n",
      "\n",
      "See the caveats in the documentation: https://pandas.pydata.org/pandas-docs/stable/user_guide/indexing.html#returning-a-view-versus-a-copy\n",
      "  temp_after_warm_up[\"predicted\"] = temp_concept_drift[\"predicted\"].replace({\n",
      "C:\\Users\\sison\\AppData\\Local\\Temp\\ipykernel_5092\\3158928081.py:7: SettingWithCopyWarning: \n",
      "A value is trying to be set on a copy of a slice from a DataFrame.\n",
      "Try using .loc[row_indexer,col_indexer] = value instead\n",
      "\n",
      "See the caveats in the documentation: https://pandas.pydata.org/pandas-docs/stable/user_guide/indexing.html#returning-a-view-versus-a-copy\n",
      "  temp_concept_drift[\"predicted\"] = temp_concept_drift[\"predicted\"].replace({\n"
     ]
    },
    {
     "data": {
      "text/html": [
       "<div>\n",
       "<style scoped>\n",
       "    .dataframe tbody tr th:only-of-type {\n",
       "        vertical-align: middle;\n",
       "    }\n",
       "\n",
       "    .dataframe tbody tr th {\n",
       "        vertical-align: top;\n",
       "    }\n",
       "\n",
       "    .dataframe thead th {\n",
       "        text-align: right;\n",
       "    }\n",
       "</style>\n",
       "<table border=\"1\" class=\"dataframe\">\n",
       "  <thead>\n",
       "    <tr style=\"text-align: right;\">\n",
       "      <th></th>\n",
       "      <th>predicted</th>\n",
       "      <th>actual</th>\n",
       "    </tr>\n",
       "  </thead>\n",
       "  <tbody>\n",
       "    <tr>\n",
       "      <th>10001</th>\n",
       "      <td>1</td>\n",
       "      <td>0</td>\n",
       "    </tr>\n",
       "    <tr>\n",
       "      <th>10002</th>\n",
       "      <td>0</td>\n",
       "      <td>1</td>\n",
       "    </tr>\n",
       "    <tr>\n",
       "      <th>10003</th>\n",
       "      <td>1</td>\n",
       "      <td>0</td>\n",
       "    </tr>\n",
       "    <tr>\n",
       "      <th>10004</th>\n",
       "      <td>1</td>\n",
       "      <td>0</td>\n",
       "    </tr>\n",
       "    <tr>\n",
       "      <th>10005</th>\n",
       "      <td>1</td>\n",
       "      <td>0</td>\n",
       "    </tr>\n",
       "  </tbody>\n",
       "</table>\n",
       "</div>"
      ],
      "text/plain": [
       "       predicted  actual\n",
       "10001          1       0\n",
       "10002          0       1\n",
       "10003          1       0\n",
       "10004          1       0\n",
       "10005          1       0"
      ]
     },
     "execution_count": 30,
     "metadata": {},
     "output_type": "execute_result"
    }
   ],
   "source": [
    "# Put incorrect predictions in temp_concept_drift\n",
    "temp_after_warm_up[\"predicted\"] = temp_concept_drift[\"predicted\"].replace({\n",
    "    0:1,\n",
    "    1:0,\n",
    "});\n",
    "\n",
    "temp_concept_drift[\"predicted\"] = temp_concept_drift[\"predicted\"].replace({\n",
    "    0:1,\n",
    "    1:0,\n",
    "});\n",
    "\n",
    "temp_concept_drift.head()"
   ]
  },
  {
   "cell_type": "code",
   "execution_count": 31,
   "metadata": {},
   "outputs": [
    {
     "data": {
      "text/html": [
       "<div>\n",
       "<style scoped>\n",
       "    .dataframe tbody tr th:only-of-type {\n",
       "        vertical-align: middle;\n",
       "    }\n",
       "\n",
       "    .dataframe tbody tr th {\n",
       "        vertical-align: top;\n",
       "    }\n",
       "\n",
       "    .dataframe thead th {\n",
       "        text-align: right;\n",
       "    }\n",
       "</style>\n",
       "<table border=\"1\" class=\"dataframe\">\n",
       "  <thead>\n",
       "    <tr style=\"text-align: right;\">\n",
       "      <th></th>\n",
       "      <th>predicted</th>\n",
       "      <th>actual</th>\n",
       "    </tr>\n",
       "  </thead>\n",
       "  <tbody>\n",
       "    <tr>\n",
       "      <th>0</th>\n",
       "      <td>1.0</td>\n",
       "      <td>1</td>\n",
       "    </tr>\n",
       "    <tr>\n",
       "      <th>1</th>\n",
       "      <td>0.0</td>\n",
       "      <td>0</td>\n",
       "    </tr>\n",
       "    <tr>\n",
       "      <th>2</th>\n",
       "      <td>0.0</td>\n",
       "      <td>0</td>\n",
       "    </tr>\n",
       "    <tr>\n",
       "      <th>3</th>\n",
       "      <td>1.0</td>\n",
       "      <td>1</td>\n",
       "    </tr>\n",
       "    <tr>\n",
       "      <th>4</th>\n",
       "      <td>1.0</td>\n",
       "      <td>1</td>\n",
       "    </tr>\n",
       "  </tbody>\n",
       "</table>\n",
       "</div>"
      ],
      "text/plain": [
       "   predicted  actual\n",
       "0        1.0       1\n",
       "1        0.0       0\n",
       "2        0.0       0\n",
       "3        1.0       1\n",
       "4        1.0       1"
      ]
     },
     "execution_count": 31,
     "metadata": {},
     "output_type": "execute_result"
    }
   ],
   "source": [
    "# Combine the testing phase and with the concept drift\n",
    "\n",
    "concept_drift_test = pd.concat([warm_up, temp_after_warm_up])\n",
    "\n",
    "concept_drift_test.head()"
   ]
  },
  {
   "cell_type": "markdown",
   "metadata": {},
   "source": [
    "### Detector Configuration"
   ]
  },
  {
   "cell_type": "code",
   "execution_count": null,
   "metadata": {},
   "outputs": [],
   "source": [
    "config = DDMConfig(\n",
    "    warning_level=2.0,\n",
    "    drift_level=3.0,\n",
    "    min_num_instances=len(\n",
    "        warm_up.index\n",
    "    ),  # Minimum number of instances to start checking for drift\n",
    ")\n",
    "\n",
    "detector = DDM(\n",
    "    config=config,\n",
    ")"
   ]
  },
  {
   "cell_type": "markdown",
   "metadata": {},
   "source": [
    "### Error Metrics"
   ]
  },
  {
   "cell_type": "code",
   "execution_count": null,
   "metadata": {},
   "outputs": [],
   "source": [
    "metrics = [\n",
    "    PrequentialError(\n",
    "        alpha=alpha,\n",
    "        name=f\"alpha={alpha}\",\n",
    "    )\n",
    "    for alpha in [1.0, 0.9999, 0.999]\n",
    "]\n",
    "metrics_historic_detector = {f\"{metric.name}\": [] for metric in metrics}\n",
    "\n",
    "\n",
    "def error_scorer(y_true, y_pred):  # Error function\n",
    "    return 1 - (y_true == y_pred)"
   ]
  },
  {
   "cell_type": "markdown",
   "metadata": {},
   "source": [
    "### Concept Drift Detection Using Frouros"
   ]
  },
  {
   "cell_type": "markdown",
   "metadata": {},
   "source": [
    "### Concept Drift Detection Using Frouros"
   ]
  },
  {
   "cell_type": "markdown",
   "metadata": {},
   "source": [
    "#### Warm-Up Phase"
   ]
  },
  {
   "cell_type": "code",
   "execution_count": null,
   "metadata": {},
   "outputs": [],
   "source": [
    "# Warm-up detector\n",
    "print(f\"Warming up detector with {len(warm_up.index)} samples\")\n",
    "warm_up_predicted = warm_up['predicted'].tolist()\n",
    "warm_up_actual = warm_up['actual'].tolist()\n",
    "\n",
    "for y_pred, y_actual in zip(warm_up_predicted, warm_up_actual):\n",
    "    error = error_scorer(y_true=y_actual, y_pred=y_pred)\n",
    "    _ = detector.update(value=error)\n",
    "\n",
    "    for metric_historic, metric in zip(metrics_historic_detector.keys(), metrics):\n",
    "        metrics_historic_detector[metric_historic].append(metric(error))"
   ]
  },
  {
   "cell_type": "markdown",
   "metadata": {},
   "source": [
    "#### Testing Phase"
   ]
  },
  {
   "cell_type": "code",
   "execution_count": null,
   "metadata": {},
   "outputs": [],
   "source": [
    "idx_drift, idx_warning = [], []\n",
    "\n",
    "i = len(warm_up.index)\n",
    "\n",
    "test_predicted = testing_phase['predicted'].tolist()\n",
    "test_actual = testing_phase['actual'].tolist()\n",
    "\n",
    "for y_pred, y_actual in zip(test_predicted, test_actual):\n",
    "\n",
    "    error = error_scorer(y_true=y_actual, y_pred=y_pred)\n",
    "    _ = detector.update(value=error)  # Detector's update\n",
    "\n",
    "    # All the following lines are optional and only used for plotting the whole process\n",
    "    for metric_historic, metric in zip(metrics_historic_detector.keys(), metrics):\n",
    "        metrics_historic_detector[metric_historic].append(metric(error))\n",
    "\n",
    "    status = detector.status\n",
    "    if status[\"drift\"]:\n",
    "        # Drift detected\n",
    "        print(f\"Drift detected at index: {i}\")\n",
    "        idx_drift.append(i)\n",
    "        detector.reset()  # Reset detector\n",
    "        for metric in metrics:  # Reset metrics\n",
    "            metric.reset()\n",
    "        break  # Stop simulation\n",
    "    elif status[\"warning\"]:\n",
    "        # Warning zone\n",
    "        idx_warning.append(i)\n",
    "    i += 1"
   ]
  },
  {
   "cell_type": "markdown",
   "metadata": {},
   "source": [
    "#### Visualization"
   ]
  },
  {
   "cell_type": "code",
   "execution_count": null,
   "metadata": {},
   "outputs": [],
   "source": [
    "plt.rcParams.update({\"font.size\": 20})\n",
    "\n",
    "alpha = 0.6\n",
    "linewidth = 1.0\n",
    "\n",
    "fig, ax = plt.subplots(\n",
    "    nrows=2,\n",
    "    ncols=1,\n",
    "    figsize=(12, 8),\n",
    "    sharex=True,\n",
    "    dpi=300,\n",
    "    gridspec_kw={\"height_ratios\": [3, 1]},\n",
    ")\n",
    "\n",
    "for (metric_name, metric_values), linecolor in zip(\n",
    "    metrics_historic_detector.items(),\n",
    "    [\"#1f77b4\", \"#ff7f0e\", \"#2ca02c\"],\n",
    "):\n",
    "    ax[0].plot(\n",
    "        metric_values,\n",
    "        color=linecolor,\n",
    "        linewidth=linewidth,\n",
    "        alpha=alpha,\n",
    "        label=metric_name,\n",
    "    )\n",
    "\n",
    "drift_color = \"red\"\n",
    "drift_linestyle = \"--\"\n",
    "warmup_color = \"grey\"\n",
    "warning_color = \"#e8f519\"\n",
    "real_drift_color = \"black\"\n",
    "\n",
    "for idx in range(0, len(warm_up.index)):\n",
    "    ax[1].axvline(x=idx, color=warmup_color, linewidth=linewidth)\n",
    "\n",
    "for idx in idx_warning:\n",
    "    ax[1].axvline(x=idx, color=warning_color, linewidth=linewidth)\n",
    "\n",
    "for idx in idx_drift:\n",
    "    ax[1].axvline(x=idx, color=drift_color, linestyle=drift_linestyle, linewidth=1.5)\n",
    "\n",
    "ax[0].set_ylabel(\"Prequential Error\")\n",
    "ax[0].legend(\n",
    "    loc=\"lower center\",\n",
    "    ncol=3,\n",
    "    bbox_to_anchor=(0.5, -0.175),\n",
    "    fancybox=True,\n",
    ")\n",
    "ax[1].set_yticks([])\n",
    "ax[1].set_ylabel(\"Detector\")\n",
    "drift_path = mpatches.Patch(\n",
    "    color=drift_color, label=\"Drift detected\", linestyle=drift_linestyle\n",
    ")\n",
    "warning_path = mpatches.Patch(color=warning_color, label=\"Warning\")\n",
    "warmup_path = mpatches.Patch(color=warmup_color, label=\"Warm up\")\n",
    "real_drift_path = mpatches.Patch(\n",
    "    color=real_drift_color, label=\"Real drift\", linestyle=drift_linestyle\n",
    ")\n",
    "ax[1].axvline(x=20000, color=real_drift_color, linestyle=drift_linestyle, linewidth=1.5)\n",
    "ax[1].legend(\n",
    "    handles=[warmup_path, real_drift_path, warning_path, drift_path],\n",
    "    loc=\"upper center\",\n",
    "    ncol=4,\n",
    "    bbox_to_anchor=(0.5, -0.2),\n",
    "    fancybox=True,\n",
    ")\n",
    "\n",
    "fig.tight_layout()\n",
    "plt.show()"
   ]
  },
  {
   "cell_type": "markdown",
   "metadata": {},
   "source": [
    "### Concept Drift Detection Using River"
   ]
  },
  {
   "cell_type": "code",
   "execution_count": 32,
   "metadata": {},
   "outputs": [
    {
     "data": {
      "text/html": [
       "<div>\n",
       "<style scoped>\n",
       "    .dataframe tbody tr th:only-of-type {\n",
       "        vertical-align: middle;\n",
       "    }\n",
       "\n",
       "    .dataframe tbody tr th {\n",
       "        vertical-align: top;\n",
       "    }\n",
       "\n",
       "    .dataframe thead th {\n",
       "        text-align: right;\n",
       "    }\n",
       "</style>\n",
       "<table border=\"1\" class=\"dataframe\">\n",
       "  <thead>\n",
       "    <tr style=\"text-align: right;\">\n",
       "      <th></th>\n",
       "      <th>predicted</th>\n",
       "      <th>actual</th>\n",
       "    </tr>\n",
       "  </thead>\n",
       "  <tbody>\n",
       "    <tr>\n",
       "      <th>0</th>\n",
       "      <td>1.0</td>\n",
       "      <td>1</td>\n",
       "    </tr>\n",
       "    <tr>\n",
       "      <th>1</th>\n",
       "      <td>0.0</td>\n",
       "      <td>0</td>\n",
       "    </tr>\n",
       "    <tr>\n",
       "      <th>2</th>\n",
       "      <td>0.0</td>\n",
       "      <td>0</td>\n",
       "    </tr>\n",
       "    <tr>\n",
       "      <th>3</th>\n",
       "      <td>1.0</td>\n",
       "      <td>1</td>\n",
       "    </tr>\n",
       "    <tr>\n",
       "      <th>4</th>\n",
       "      <td>1.0</td>\n",
       "      <td>1</td>\n",
       "    </tr>\n",
       "  </tbody>\n",
       "</table>\n",
       "</div>"
      ],
      "text/plain": [
       "   predicted  actual\n",
       "0        1.0       1\n",
       "1        0.0       0\n",
       "2        0.0       0\n",
       "3        1.0       1\n",
       "4        1.0       1"
      ]
     },
     "execution_count": 32,
     "metadata": {},
     "output_type": "execute_result"
    }
   ],
   "source": [
    "concept_drift_test.head()"
   ]
  },
  {
   "cell_type": "code",
   "execution_count": 33,
   "metadata": {},
   "outputs": [],
   "source": [
    "concept_drift_test['is_correct'] = (concept_drift_test['predicted']==concept_drift_test['actual']).astype(int)"
   ]
  },
  {
   "cell_type": "code",
   "execution_count": 34,
   "metadata": {},
   "outputs": [
    {
     "data": {
      "text/html": [
       "<div>\n",
       "<style scoped>\n",
       "    .dataframe tbody tr th:only-of-type {\n",
       "        vertical-align: middle;\n",
       "    }\n",
       "\n",
       "    .dataframe tbody tr th {\n",
       "        vertical-align: top;\n",
       "    }\n",
       "\n",
       "    .dataframe thead th {\n",
       "        text-align: right;\n",
       "    }\n",
       "</style>\n",
       "<table border=\"1\" class=\"dataframe\">\n",
       "  <thead>\n",
       "    <tr style=\"text-align: right;\">\n",
       "      <th></th>\n",
       "      <th>predicted</th>\n",
       "      <th>actual</th>\n",
       "      <th>is_correct</th>\n",
       "    </tr>\n",
       "  </thead>\n",
       "  <tbody>\n",
       "    <tr>\n",
       "      <th>0</th>\n",
       "      <td>1.0</td>\n",
       "      <td>1</td>\n",
       "      <td>0</td>\n",
       "    </tr>\n",
       "    <tr>\n",
       "      <th>1</th>\n",
       "      <td>0.0</td>\n",
       "      <td>0</td>\n",
       "      <td>0</td>\n",
       "    </tr>\n",
       "    <tr>\n",
       "      <th>2</th>\n",
       "      <td>0.0</td>\n",
       "      <td>0</td>\n",
       "      <td>0</td>\n",
       "    </tr>\n",
       "    <tr>\n",
       "      <th>3</th>\n",
       "      <td>1.0</td>\n",
       "      <td>1</td>\n",
       "      <td>0</td>\n",
       "    </tr>\n",
       "    <tr>\n",
       "      <th>4</th>\n",
       "      <td>1.0</td>\n",
       "      <td>1</td>\n",
       "      <td>0</td>\n",
       "    </tr>\n",
       "    <tr>\n",
       "      <th>...</th>\n",
       "      <td>...</td>\n",
       "      <td>...</td>\n",
       "      <td>...</td>\n",
       "    </tr>\n",
       "    <tr>\n",
       "      <th>9995</th>\n",
       "      <td>NaN</td>\n",
       "      <td>1</td>\n",
       "      <td>1</td>\n",
       "    </tr>\n",
       "    <tr>\n",
       "      <th>9996</th>\n",
       "      <td>NaN</td>\n",
       "      <td>0</td>\n",
       "      <td>1</td>\n",
       "    </tr>\n",
       "    <tr>\n",
       "      <th>9997</th>\n",
       "      <td>NaN</td>\n",
       "      <td>1</td>\n",
       "      <td>1</td>\n",
       "    </tr>\n",
       "    <tr>\n",
       "      <th>9998</th>\n",
       "      <td>NaN</td>\n",
       "      <td>0</td>\n",
       "      <td>1</td>\n",
       "    </tr>\n",
       "    <tr>\n",
       "      <th>9999</th>\n",
       "      <td>NaN</td>\n",
       "      <td>0</td>\n",
       "      <td>1</td>\n",
       "    </tr>\n",
       "  </tbody>\n",
       "</table>\n",
       "<p>9999 rows × 3 columns</p>\n",
       "</div>"
      ],
      "text/plain": [
       "      predicted  actual  is_correct\n",
       "0           1.0       1           0\n",
       "1           0.0       0           0\n",
       "2           0.0       0           0\n",
       "3           1.0       1           0\n",
       "4           1.0       1           0\n",
       "...         ...     ...         ...\n",
       "9995        NaN       1           1\n",
       "9996        NaN       0           1\n",
       "9997        NaN       1           1\n",
       "9998        NaN       0           1\n",
       "9999        NaN       0           1\n",
       "\n",
       "[9999 rows x 3 columns]"
      ]
     },
     "execution_count": 34,
     "metadata": {},
     "output_type": "execute_result"
    }
   ],
   "source": [
    "concept_drift_test[\"is_correct\"] = concept_drift_test[\"is_correct\"].replace({\n",
    "    0:1,\n",
    "    1:0,\n",
    "});\n",
    "\n",
    "concept_drift_test.head(-1)"
   ]
  },
  {
   "cell_type": "code",
   "execution_count": 35,
   "metadata": {},
   "outputs": [
    {
     "name": "stdout",
     "output_type": "stream",
     "text": [
      "Warning detected at index 10101\n",
      "Change detected at index 10198\n"
     ]
    }
   ],
   "source": [
    "ddm = drift.binary.DDM(warm_start=10000)\n",
    "rng = random.Random(42)\n",
    "\n",
    "#data_stream = rng.choices([0, 1], k=1000, weights=[0.95, 0.05])\n",
    "#data_stream = data_stream + rng.choices([0, 1], k=1000, weights=[0.9, 0.1])\n",
    "#data_stream = data_stream + rng.choices([0, 1], k=1000, weights=[0.3, 0.7])\n",
    "\n",
    "data_stream = concept_drift_test['is_correct'].tolist()\n",
    "data_stream = data_stream + rng.choices([0, 1], k=10000, weights=[0.7, 0.3])\n",
    "\n",
    "print_warning = True\n",
    "for i, x in enumerate(data_stream):\n",
    "    ddm.update(x)\n",
    "\n",
    "    if ddm.warning_detected and print_warning:\n",
    "        print(f\"Warning detected at index {i}\")\n",
    "        print_warning = False\n",
    "    if ddm.drift_detected:\n",
    "        print(f\"Change detected at index {i}\")\n",
    "        print_warning = True"
   ]
  }
 ],
 "metadata": {
  "kernelspec": {
   "display_name": "Python 3",
   "language": "python",
   "name": "python3"
  },
  "language_info": {
   "codemirror_mode": {
    "name": "ipython",
    "version": 3
   },
   "file_extension": ".py",
   "mimetype": "text/x-python",
   "name": "python",
   "nbconvert_exporter": "python",
   "pygments_lexer": "ipython3",
   "version": "3.11.1"
  }
 },
 "nbformat": 4,
 "nbformat_minor": 2
}
